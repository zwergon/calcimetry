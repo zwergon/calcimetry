{
 "cells": [
  {
   "cell_type": "code",
   "execution_count": 3,
   "metadata": {},
   "outputs": [],
   "source": [
    "from calcimetry.mongo_api import MongoInfo\n",
    "from calcimetry.thumbnail_api import ThumbnailAPI\n",
    "from PIL import Image\n",
    "import matplotlib.pyplot as plt\n",
    "import io\n",
    "import random\n",
    "import base64\n",
    "\n",
    "# Load Dataset\n",
    "\n",
    "\n",
    "random.seed(1)\n",
    "\n",
    "mongo_info = MongoInfo(host='localhost', port=27010)\n",
    "thumb_list = []\n",
    "with ThumbnailAPI(mongo_info=mongo_info) as thumb_api:\n",
    "    size = thumb_api.size()\n",
    "    for i in range(2):\n",
    "        idx = int(random.random()*size)\n",
    "        thumb, val_1m = thumb_api.read(idx)\n",
    "        thumb_list.append(thumb)\n",
    "    #plt.imshow(thumb)\n",
    "    "
   ]
  },
  {
   "cell_type": "code",
   "execution_count": 4,
   "metadata": {},
   "outputs": [
    {
     "data": {
      "text/html": [
       "<img style='width: 120px; margin: 0px; float: left; border: 1px solid black;' src='data:image/jpg;base64,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' /><img style='width: 120px; margin: 0px; float: left; border: 1px solid black;' src='data:image/jpg;base64,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' />"
      ],
      "text/plain": [
       "<IPython.core.display.HTML object>"
      ]
     },
     "metadata": {},
     "output_type": "display_data"
    }
   ],
   "source": [
    "from IPython.display import Image, HTML, display\n",
    "\n",
    "def to_base64(img: Image):\n",
    "    byte_array = io.BytesIO()\n",
    "    img.save(byte_array, format='jpeg')\n",
    "    return base64.b64encode(byte_array.getvalue()).decode()\n",
    "\n",
    "imagesList=''.join( [\"<img style='width: 120px; margin: 0px; float: left; border: 1px solid black;' src='data:image/jpg;base64,%s' />\"\n",
    "     % to_base64(s) for s in thumb_list ])\n",
    "display(HTML(imagesList))\n",
    "\n"
   ]
  },
  {
   "cell_type": "code",
   "execution_count": null,
   "metadata": {},
   "outputs": [],
   "source": []
  }
 ],
 "metadata": {
  "kernelspec": {
   "display_name": "Python 3.8.5 ('base')",
   "language": "python",
   "name": "python3"
  },
  "language_info": {
   "codemirror_mode": {
    "name": "ipython",
    "version": 3
   },
   "file_extension": ".py",
   "mimetype": "text/x-python",
   "name": "python",
   "nbconvert_exporter": "python",
   "pygments_lexer": "ipython3",
   "version": "3.8.5"
  },
  "orig_nbformat": 4,
  "vscode": {
   "interpreter": {
    "hash": "87318e7f4a2d21b475c64cf8351be356b72610cdf56f3bee5650c23ac32e6f1c"
   }
  }
 },
 "nbformat": 4,
 "nbformat_minor": 2
}
