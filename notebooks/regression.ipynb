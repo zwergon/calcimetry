{
 "cells": [
  {
   "cell_type": "code",
   "execution_count": 4,
   "metadata": {},
   "outputs": [
    {
     "name": "stdout",
     "output_type": "stream",
     "text": [
      "<bound method ThumbnailAPI.size of <calcimetry.thumbnail_api.ThumbnailAPI object at 0x0000020EBB582290>>\n"
     ]
    },
    {
     "ename": "TypeError",
     "evalue": "unsupported operand type(s) for *: 'float' and 'method'",
     "output_type": "error",
     "traceback": [
      "\u001b[1;31m---------------------------------------------------------------------------\u001b[0m",
      "\u001b[1;31mTypeError\u001b[0m                                 Traceback (most recent call last)",
      "Cell \u001b[1;32mIn [4], line 31\u001b[0m\n\u001b[0;32m     29\u001b[0m \u001b[38;5;28mprint\u001b[39m(size)\n\u001b[0;32m     30\u001b[0m \u001b[38;5;28;01mfor\u001b[39;00m i \u001b[38;5;129;01min\u001b[39;00m \u001b[38;5;28mrange\u001b[39m(\u001b[38;5;241m50\u001b[39m):\n\u001b[1;32m---> 31\u001b[0m     idx \u001b[38;5;241m=\u001b[39m \u001b[38;5;28mint\u001b[39m(random\u001b[38;5;241m.\u001b[39mrandom()\u001b[38;5;241m*\u001b[39msize)\n\u001b[0;32m     32\u001b[0m     thumb \u001b[38;5;241m=\u001b[39m thumb_api\u001b[38;5;241m.\u001b[39mread(idx)\n\u001b[0;32m     33\u001b[0m     thumb_list\u001b[38;5;241m.\u001b[39mappend((thumb\u001b[38;5;241m.\u001b[39mjpg, get_histo(thumb\u001b[38;5;241m.\u001b[39mjpg), thumb\u001b[38;5;241m.\u001b[39mmeasurement\u001b[38;5;241m.\u001b[39mval_1m))\n",
      "\u001b[1;31mTypeError\u001b[0m: unsupported operand type(s) for *: 'float' and 'method'"
     ]
    }
   ],
   "source": [
    "from calcimetry.mongo_api import MongoInfo\n",
    "from calcimetry.thumbnail_api import ThumbnailAPI\n",
    "from PIL import Image\n",
    "import matplotlib.pyplot as plt\n",
    "import io\n",
    "import random\n",
    "import base64\n",
    "\n",
    "# Load Dataset\n",
    "\n",
    "def get_histo(img):\n",
    "    gray = img.convert('L')\n",
    "\n",
    "    fig, ax = plt.subplots(nrows=1, ncols=1)\n",
    "    ax.set_axis_off()\n",
    "    ax.plot(gray.histogram())\n",
    "    img_byte_array = io.BytesIO()\n",
    "    fig.savefig(img_byte_array, format='jpeg')\n",
    "    plt.close(fig)\n",
    "    return base64.b64encode(img_byte_array.getvalue()).decode()\n",
    "\n",
    "\n",
    "random.seed(1)\n",
    "\n",
    "mongo_info = MongoInfo(host='localhost', port=27017)\n",
    "thumb_list = []\n",
    "with ThumbnailAPI(mongo_info=mongo_info) as thumb_api:\n",
    "    size = thumb_api.size()\n",
    "    print(size)\n",
    "    for i in range(50):\n",
    "        idx = int(random.random()*size)\n",
    "        thumb = thumb_api.read(idx)\n",
    "        thumb_list.append((thumb.jpg, get_histo(thumb.jpg), thumb.measurement.val_1m))\n",
    "    #plt.imshow(thumb)\n",
    "    "
   ]
  },
  {
   "cell_type": "code",
   "execution_count": null,
   "metadata": {},
   "outputs": [
    {
     "ename": "",
     "evalue": "",
     "output_type": "error",
     "traceback": [
      "\u001b[1;31mLes cellules en cours d’exécution avec Python 3.10.7 64-bit nécessitent ipykernel package.\n",
      "\u001b[1;31mExécutez la commande suivante pour installer 'ipykernel' dans l’environnement Python. \n",
      "\u001b[1;31mCommande : '\"c:/Program Files/Python310/python.exe\" -m pip install ipykernel -U --user --force-reinstall'"
     ]
    }
   ],
   "source": [
    "from IPython.display import Image, HTML, display\n",
    "\n",
    "def to_base64(img: Image):\n",
    "    byte_array = io.BytesIO()\n",
    "    img.save(byte_array, format='jpeg')\n",
    "    return base64.b64encode(byte_array.getvalue()).decode()\n",
    "\n",
    "html_str = \"<div style='display: inline-block; align:justify; border: 1px solid white;'>\"\n",
    "html_str +=\"<img style='width: 128px; margin: 0px; float: left; ' src='data:image/jpg;base64,%s' />\"\n",
    "html_str +=\"<img style='width: 128px; margin: 0px; float: left; 'src='data:image/jpg;base64,%s' />\"\n",
    "html_str +=\"<P style='text-align: center;'>%s (%s)</P>\"\n",
    "html_str +=\"</div>\"\n",
    "\n",
    "imagesList=''.join( [ html_str % (to_base64(s[0]), s[1], s[2]['val_1m'], s[2]['ImageID']) for s in thumb_list ])\n",
    "display(HTML(imagesList))\n",
    "\n"
   ]
  },
  {
   "cell_type": "code",
   "execution_count": null,
   "metadata": {},
   "outputs": [],
   "source": []
  }
 ],
 "metadata": {
  "kernelspec": {
   "display_name": "Python 3.10.7 ('venv': venv)",
   "language": "python",
   "name": "python3"
  },
  "language_info": {
   "codemirror_mode": {
    "name": "ipython",
    "version": 3
   },
   "file_extension": ".py",
   "mimetype": "text/x-python",
   "name": "python",
   "nbconvert_exporter": "python",
   "pygments_lexer": "ipython3",
   "version": "3.10.7"
  },
  "orig_nbformat": 4,
  "vscode": {
   "interpreter": {
    "hash": "60c9eaf5a0a28fbfd85512bc374f55a2e07e010a69ed3d8b37218f632f3b152f"
   }
  }
 },
 "nbformat": 4,
 "nbformat_minor": 2
}
