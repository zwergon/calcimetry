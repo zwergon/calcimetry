{
 "cells": [
  {
   "cell_type": "markdown",
   "id": "32a18abf-ec93-4fc9-9579-4ec228950175",
   "metadata": {},
   "source": [
    "# Calculation of image quality\n",
    "\n",
    "Will pull the ImageId from the MongoDB to then grab the associated image from the image server. Then calculate various quality metrics. Finally build a dataframe with the Image ID, and quality scores. Then push back the new info to MongoDB.\n",
    "\n",
    "`!ssh -f -N -L 27017:irlinv-tellus:27017 irlinv-tellus`"
   ]
  },
  {
   "cell_type": "code",
   "execution_count": 1,
   "id": "7acaf2f6-b5b1-45af-9bf7-4cbd3665f89e",
   "metadata": {},
   "outputs": [],
   "source": [
    "import io, os, sys\n",
    "import requests\n",
    "import random\n",
    "import numpy as np\n",
    "import pandas as pd\n",
    "import seaborn as sns\n",
    "import matplotlib.pyplot as plt\n",
    "from sklearn.cluster import KMeans\n",
    "from collections import Counter\n",
    "from ipywidgets import IntProgress\n",
    "from IPython.display import display\n",
    "\n",
    "import skimage as ski\n",
    "import cv2\n",
    "import torch\n",
    "import piq\n",
    "#import nvidia_smi\n",
    "\n",
    "sys.path.append('..')\n",
    "\n",
    "# local library of functions to connect to image server\n",
    "#import calcimetry.use_server as server\n",
    "from calcimetry.mongo_api import MongoInfo, MongoAPI\n",
    "from calcimetry.calcimetry_api import CalcimetryAPI\n",
    "\n",
    "# parameters where the database is stored, can obviously be distant.\n",
    "HOST='localhost'\n",
    "PORT=27017"
   ]
  },
  {
   "cell_type": "code",
   "execution_count": 2,
   "id": "ddd163da-1fc8-4e34-be02-8bc09ccacb30",
   "metadata": {},
   "outputs": [],
   "source": [
    "#img_path = server.init()\n",
    "mongo_info = MongoInfo(host=HOST, port=PORT)"
   ]
  },
  {
   "cell_type": "code",
   "execution_count": 3,
   "id": "0349da28-6654-4788-991d-bd6cdfba9fc7",
   "metadata": {},
   "outputs": [
    {
     "data": {
      "text/html": [
       "<div>\n",
       "<style scoped>\n",
       "    .dataframe tbody tr th:only-of-type {\n",
       "        vertical-align: middle;\n",
       "    }\n",
       "\n",
       "    .dataframe tbody tr th {\n",
       "        vertical-align: top;\n",
       "    }\n",
       "\n",
       "    .dataframe thead th {\n",
       "        text-align: right;\n",
       "    }\n",
       "</style>\n",
       "<table border=\"1\" class=\"dataframe\">\n",
       "  <thead>\n",
       "    <tr style=\"text-align: right;\">\n",
       "      <th></th>\n",
       "      <th>_id</th>\n",
       "      <th>ImageId</th>\n",
       "      <th>FileName</th>\n",
       "      <th>DrillName</th>\n",
       "      <th>Cote0</th>\n",
       "      <th>Cote1</th>\n",
       "      <th>PxSize</th>\n",
       "      <th>PySize</th>\n",
       "      <th>px0</th>\n",
       "      <th>px1</th>\n",
       "      <th>k_Up</th>\n",
       "      <th>k_Down</th>\n",
       "      <th>k_Arrow</th>\n",
       "    </tr>\n",
       "  </thead>\n",
       "  <tbody>\n",
       "    <tr>\n",
       "      <th>0</th>\n",
       "      <td>632336418f6c6e412bdc4a9b</td>\n",
       "      <td>0</td>\n",
       "      <td>GTR2012-07_0023_BPE4023_0000_0110.jpg</td>\n",
       "      <td>BPE4023</td>\n",
       "      <td>0</td>\n",
       "      <td>110</td>\n",
       "      <td>3231</td>\n",
       "      <td>625</td>\n",
       "      <td>28.0</td>\n",
       "      <td>3137.0</td>\n",
       "      <td>[[55, 173], [259, 179], [430, 177], [583, 171]...</td>\n",
       "      <td>[[66, 325], [240, 328], [572, 326], [727, 335]...</td>\n",
       "      <td>[[1505, 272], [1530, 273], [1767, 279], [2090,...</td>\n",
       "    </tr>\n",
       "    <tr>\n",
       "      <th>1</th>\n",
       "      <td>632336418f6c6e412bdc4a9c</td>\n",
       "      <td>1</td>\n",
       "      <td>GTR2012-07_0023_BPE4023_0090_0200.jpg</td>\n",
       "      <td>BPE4023</td>\n",
       "      <td>90</td>\n",
       "      <td>200</td>\n",
       "      <td>3456</td>\n",
       "      <td>630</td>\n",
       "      <td>172.0</td>\n",
       "      <td>3311.0</td>\n",
       "      <td>[[11, 187], [556, 189], [1081, 190], [1590, 18...</td>\n",
       "      <td>[[8, 344], [591, 346], [1157, 348], [1505, 349...</td>\n",
       "      <td>[[10, 268], [1373, 268], [1693, 271], [1980, 2...</td>\n",
       "    </tr>\n",
       "    <tr>\n",
       "      <th>2</th>\n",
       "      <td>632336418f6c6e412bdc4a9d</td>\n",
       "      <td>2</td>\n",
       "      <td>GTR2012-07_0023_BPE4023_0180_0290.jpg</td>\n",
       "      <td>BPE4023</td>\n",
       "      <td>180</td>\n",
       "      <td>290</td>\n",
       "      <td>3456</td>\n",
       "      <td>630</td>\n",
       "      <td>135.0</td>\n",
       "      <td>3273.0</td>\n",
       "      <td>[[8, 166], [388, 171], [1155, 177], [2061, 184...</td>\n",
       "      <td>[[14, 329], [440, 338], [920, 336], [1295, 344...</td>\n",
       "      <td>[[3, 245], [208, 248], [372, 266], [1644, 265]...</td>\n",
       "    </tr>\n",
       "    <tr>\n",
       "      <th>3</th>\n",
       "      <td>632336418f6c6e412bdc4a9e</td>\n",
       "      <td>3</td>\n",
       "      <td>GTR2012-07_0023_BPE4023_0270_0380.jpg</td>\n",
       "      <td>BPE4023</td>\n",
       "      <td>270</td>\n",
       "      <td>380</td>\n",
       "      <td>3456</td>\n",
       "      <td>636</td>\n",
       "      <td>97.0</td>\n",
       "      <td>3224.0</td>\n",
       "      <td>[[5, 181], [811, 182], [1253, 190], [2597, 199...</td>\n",
       "      <td>[[5, 343], [632, 343], [928, 342], [1212, 356]...</td>\n",
       "      <td>[[6, 260], [820, 257], [1253, 275], [1939, 272...</td>\n",
       "    </tr>\n",
       "    <tr>\n",
       "      <th>4</th>\n",
       "      <td>632336418f6c6e412bdc4a9f</td>\n",
       "      <td>4</td>\n",
       "      <td>GTR2012-07_0023_BPE4023_0350_0440.jpg</td>\n",
       "      <td>BPE4023</td>\n",
       "      <td>350</td>\n",
       "      <td>440</td>\n",
       "      <td>2824</td>\n",
       "      <td>640</td>\n",
       "      <td>2.0</td>\n",
       "      <td>2574.0</td>\n",
       "      <td>[[6, 185], [186, 187], [524, 180], [1345, 184]...</td>\n",
       "      <td>[[6, 346], [296, 346], [546, 340], [1268, 348]...</td>\n",
       "      <td>[[5, 259], [519, 257], [1199, 260], [1580, 254...</td>\n",
       "    </tr>\n",
       "    <tr>\n",
       "      <th>...</th>\n",
       "      <td>...</td>\n",
       "      <td>...</td>\n",
       "      <td>...</td>\n",
       "      <td>...</td>\n",
       "      <td>...</td>\n",
       "      <td>...</td>\n",
       "      <td>...</td>\n",
       "      <td>...</td>\n",
       "      <td>...</td>\n",
       "      <td>...</td>\n",
       "      <td>...</td>\n",
       "      <td>...</td>\n",
       "      <td>...</td>\n",
       "    </tr>\n",
       "    <tr>\n",
       "      <th>3063</th>\n",
       "      <td>63283cf9f27bc4104e69bf0d</td>\n",
       "      <td>2340</td>\n",
       "      <td>GTR2005-06_0029_SUG1101_1783_1883.jpg</td>\n",
       "      <td>SUG1101</td>\n",
       "      <td>1783</td>\n",
       "      <td>1880</td>\n",
       "      <td>2048</td>\n",
       "      <td>444</td>\n",
       "      <td>4.0</td>\n",
       "      <td>2004.0</td>\n",
       "      <td>[[78, 61], [678, 62], [1043, 71], [2039, 100]]</td>\n",
       "      <td>[[106, 227], [914, 238], [1423, 250], [2039, 2...</td>\n",
       "      <td>[[56, 134], [297, 124], [412, 138], [604, 139]...</td>\n",
       "    </tr>\n",
       "    <tr>\n",
       "      <th>3064</th>\n",
       "      <td>63283cf9f27bc4104e69bf0e</td>\n",
       "      <td>2341</td>\n",
       "      <td>GTR2005-06_0029_SUG1101_1805_1899.jpg</td>\n",
       "      <td>SUG1101</td>\n",
       "      <td>1805</td>\n",
       "      <td>1898</td>\n",
       "      <td>2048</td>\n",
       "      <td>492</td>\n",
       "      <td>89.0</td>\n",
       "      <td>1967.0</td>\n",
       "      <td>[[74, 77], [1122, 88], [2035, 123]]</td>\n",
       "      <td>[[76, 248], [1321, 266], [2017, 289]]</td>\n",
       "      <td>[[52, 153], [615, 153], [1110, 163], [1441, 17...</td>\n",
       "    </tr>\n",
       "    <tr>\n",
       "      <th>3065</th>\n",
       "      <td>63283cf9f27bc4104e69bf0f</td>\n",
       "      <td>2342</td>\n",
       "      <td>GTR2005-06_0029_SUG1101_1900_1995.jpg</td>\n",
       "      <td>SUG1101</td>\n",
       "      <td>1900</td>\n",
       "      <td>1994</td>\n",
       "      <td>1959</td>\n",
       "      <td>432</td>\n",
       "      <td>22.0</td>\n",
       "      <td>1954.0</td>\n",
       "      <td>[[13, 63], [429, 75], [760, 87], [1948, 76]]</td>\n",
       "      <td>[[37, 236], [738, 252], [1339, 253], [1941, 24...</td>\n",
       "      <td>[[92, 171], [565, 180], [1117, 185], [1861, 177]]</td>\n",
       "    </tr>\n",
       "    <tr>\n",
       "      <th>3066</th>\n",
       "      <td>63283cf9f27bc4104e69bf10</td>\n",
       "      <td>2343</td>\n",
       "      <td>GTR2005-06_0029_SUG1101_1985_2085.jpg</td>\n",
       "      <td>SUG1101</td>\n",
       "      <td>1985</td>\n",
       "      <td>2083</td>\n",
       "      <td>2048</td>\n",
       "      <td>468</td>\n",
       "      <td>14.0</td>\n",
       "      <td>2024.0</td>\n",
       "      <td>[[46, 59], [631, 85], [974, 100], [2039, 111]]</td>\n",
       "      <td>[[39, 227], [476, 251], [656, 258], [1275, 278...</td>\n",
       "      <td>[[613, 183], [825, 191], [1385, 204], [2028, 2...</td>\n",
       "    </tr>\n",
       "    <tr>\n",
       "      <th>3067</th>\n",
       "      <td>63283cf9f27bc4104e69bf11</td>\n",
       "      <td>2344</td>\n",
       "      <td>GTR2005-06_0029_SUG1101_2018_2100.jpg</td>\n",
       "      <td>SUG1101</td>\n",
       "      <td>2018</td>\n",
       "      <td>2100</td>\n",
       "      <td>1815</td>\n",
       "      <td>468</td>\n",
       "      <td>6.0</td>\n",
       "      <td>1698.0</td>\n",
       "      <td>[[21, 49], [328, 67], [806, 85], [1537, 97], [...</td>\n",
       "      <td>[[13, 223], [834, 255], [1394, 269], [1540, 27...</td>\n",
       "      <td>[[25, 145], [40, 147], [576, 171], [1555, 198]]</td>\n",
       "    </tr>\n",
       "  </tbody>\n",
       "</table>\n",
       "<p>3068 rows × 13 columns</p>\n",
       "</div>"
      ],
      "text/plain": [
       "                           _id  ImageId  \\\n",
       "0     632336418f6c6e412bdc4a9b        0   \n",
       "1     632336418f6c6e412bdc4a9c        1   \n",
       "2     632336418f6c6e412bdc4a9d        2   \n",
       "3     632336418f6c6e412bdc4a9e        3   \n",
       "4     632336418f6c6e412bdc4a9f        4   \n",
       "...                        ...      ...   \n",
       "3063  63283cf9f27bc4104e69bf0d     2340   \n",
       "3064  63283cf9f27bc4104e69bf0e     2341   \n",
       "3065  63283cf9f27bc4104e69bf0f     2342   \n",
       "3066  63283cf9f27bc4104e69bf10     2343   \n",
       "3067  63283cf9f27bc4104e69bf11     2344   \n",
       "\n",
       "                                   FileName DrillName  Cote0  Cote1  PxSize  \\\n",
       "0     GTR2012-07_0023_BPE4023_0000_0110.jpg   BPE4023      0    110    3231   \n",
       "1     GTR2012-07_0023_BPE4023_0090_0200.jpg   BPE4023     90    200    3456   \n",
       "2     GTR2012-07_0023_BPE4023_0180_0290.jpg   BPE4023    180    290    3456   \n",
       "3     GTR2012-07_0023_BPE4023_0270_0380.jpg   BPE4023    270    380    3456   \n",
       "4     GTR2012-07_0023_BPE4023_0350_0440.jpg   BPE4023    350    440    2824   \n",
       "...                                     ...       ...    ...    ...     ...   \n",
       "3063  GTR2005-06_0029_SUG1101_1783_1883.jpg   SUG1101   1783   1880    2048   \n",
       "3064  GTR2005-06_0029_SUG1101_1805_1899.jpg   SUG1101   1805   1898    2048   \n",
       "3065  GTR2005-06_0029_SUG1101_1900_1995.jpg   SUG1101   1900   1994    1959   \n",
       "3066  GTR2005-06_0029_SUG1101_1985_2085.jpg   SUG1101   1985   2083    2048   \n",
       "3067  GTR2005-06_0029_SUG1101_2018_2100.jpg   SUG1101   2018   2100    1815   \n",
       "\n",
       "      PySize    px0     px1  \\\n",
       "0        625   28.0  3137.0   \n",
       "1        630  172.0  3311.0   \n",
       "2        630  135.0  3273.0   \n",
       "3        636   97.0  3224.0   \n",
       "4        640    2.0  2574.0   \n",
       "...      ...    ...     ...   \n",
       "3063     444    4.0  2004.0   \n",
       "3064     492   89.0  1967.0   \n",
       "3065     432   22.0  1954.0   \n",
       "3066     468   14.0  2024.0   \n",
       "3067     468    6.0  1698.0   \n",
       "\n",
       "                                                   k_Up  \\\n",
       "0     [[55, 173], [259, 179], [430, 177], [583, 171]...   \n",
       "1     [[11, 187], [556, 189], [1081, 190], [1590, 18...   \n",
       "2     [[8, 166], [388, 171], [1155, 177], [2061, 184...   \n",
       "3     [[5, 181], [811, 182], [1253, 190], [2597, 199...   \n",
       "4     [[6, 185], [186, 187], [524, 180], [1345, 184]...   \n",
       "...                                                 ...   \n",
       "3063     [[78, 61], [678, 62], [1043, 71], [2039, 100]]   \n",
       "3064                [[74, 77], [1122, 88], [2035, 123]]   \n",
       "3065       [[13, 63], [429, 75], [760, 87], [1948, 76]]   \n",
       "3066     [[46, 59], [631, 85], [974, 100], [2039, 111]]   \n",
       "3067  [[21, 49], [328, 67], [806, 85], [1537, 97], [...   \n",
       "\n",
       "                                                 k_Down  \\\n",
       "0     [[66, 325], [240, 328], [572, 326], [727, 335]...   \n",
       "1     [[8, 344], [591, 346], [1157, 348], [1505, 349...   \n",
       "2     [[14, 329], [440, 338], [920, 336], [1295, 344...   \n",
       "3     [[5, 343], [632, 343], [928, 342], [1212, 356]...   \n",
       "4     [[6, 346], [296, 346], [546, 340], [1268, 348]...   \n",
       "...                                                 ...   \n",
       "3063  [[106, 227], [914, 238], [1423, 250], [2039, 2...   \n",
       "3064              [[76, 248], [1321, 266], [2017, 289]]   \n",
       "3065  [[37, 236], [738, 252], [1339, 253], [1941, 24...   \n",
       "3066  [[39, 227], [476, 251], [656, 258], [1275, 278...   \n",
       "3067  [[13, 223], [834, 255], [1394, 269], [1540, 27...   \n",
       "\n",
       "                                                k_Arrow  \n",
       "0     [[1505, 272], [1530, 273], [1767, 279], [2090,...  \n",
       "1     [[10, 268], [1373, 268], [1693, 271], [1980, 2...  \n",
       "2     [[3, 245], [208, 248], [372, 266], [1644, 265]...  \n",
       "3     [[6, 260], [820, 257], [1253, 275], [1939, 272...  \n",
       "4     [[5, 259], [519, 257], [1199, 260], [1580, 254...  \n",
       "...                                                 ...  \n",
       "3063  [[56, 134], [297, 124], [412, 138], [604, 139]...  \n",
       "3064  [[52, 153], [615, 153], [1110, 163], [1441, 17...  \n",
       "3065  [[92, 171], [565, 180], [1117, 185], [1861, 177]]  \n",
       "3066  [[613, 183], [825, 191], [1385, 204], [2028, 2...  \n",
       "3067    [[25, 145], [40, 147], [576, 171], [1555, 198]]  \n",
       "\n",
       "[3068 rows x 13 columns]"
      ]
     },
     "execution_count": 3,
     "metadata": {},
     "output_type": "execute_result"
    }
   ],
   "source": [
    "with MongoAPI(mongo_info=mongo_info) as mongo_api:\n",
    "    doc = mongo_api.db['images'].find()\n",
    "    df = pd.DataFrame(list(doc))\n",
    "df"
   ]
  },
  {
   "cell_type": "markdown",
   "id": "1ce021f3-43e6-41b8-9427-5238433dd616",
   "metadata": {},
   "source": [
    "### There is no conisitency on directory names\n",
    "\n",
    "So get the list of all the files in the images server"
   ]
  },
  {
   "cell_type": "raw",
   "id": "ced335fb-fb40-43a4-b19b-0ecc4a3fd9a3",
   "metadata": {},
   "source": [
    "files = server.get_list(img_path)\n",
    "print(\"nombre de fichiers disponibles\", len(files))"
   ]
  },
  {
   "cell_type": "raw",
   "id": "4eeaf6f7-5989-4881-946f-77bce6ee057d",
   "metadata": {},
   "source": [
    "files[0]"
   ]
  },
  {
   "cell_type": "markdown",
   "id": "bcc0b2f8-c543-4108-91ca-8f89b530bc3f",
   "metadata": {},
   "source": [
    "This only returns a list of files with the extension `.jpg` and not `.JPG`"
   ]
  },
  {
   "cell_type": "markdown",
   "id": "40d2bf37-7757-4886-a09c-f7468a7e023c",
   "metadata": {},
   "source": [
    "Function to find string in list of strings (thanks stackoverflow)"
   ]
  },
  {
   "cell_type": "raw",
   "id": "3b5e80bb-836f-4a3a-9924-482b70ca77e6",
   "metadata": {},
   "source": [
    "def index_containing_substring(the_list, substring):\n",
    "    for i, s in enumerate(the_list):\n",
    "        if substring in s:\n",
    "              return i\n",
    "    return -1"
   ]
  },
  {
   "cell_type": "markdown",
   "id": "b01caa4b-7d02-47c2-91f9-9e59f117af9c",
   "metadata": {},
   "source": [
    "### The variance of the Laplacian can be a measure of the sharpness of the image, or the focus"
   ]
  },
  {
   "cell_type": "code",
   "execution_count": 4,
   "id": "7aad758b-2105-48c7-ab23-404db0f81b2d",
   "metadata": {},
   "outputs": [],
   "source": [
    "def variance_of_laplacian(image):\n",
    "    # compute the Laplacian of the image and then return the focus\n",
    "    # measure, which is simply the variance of the Laplacian\n",
    "    return cv2.Laplacian(image, cv2.CV_64F).var()"
   ]
  },
  {
   "cell_type": "markdown",
   "id": "66dd73ea-312f-4f61-a297-cf7aae8af2ac",
   "metadata": {},
   "source": [
    "### Magnitude of the gradient to get sharpness of edges"
   ]
  },
  {
   "cell_type": "code",
   "execution_count": 5,
   "id": "d7fb002c-2aa7-4f15-8066-1e4785c77cb4",
   "metadata": {},
   "outputs": [],
   "source": [
    "def gradient_magnitude(image):\n",
    "    #Get magnitude of gradient for given image\n",
    "    ddepth = cv2.CV_64F\n",
    "    dx = cv2.Sobel(image, ddepth, 1, 0)\n",
    "    dy = cv2.Sobel(image, ddepth, 0, 1)\n",
    "    mag = cv2.magnitude(dx, dy)\n",
    "    return mag"
   ]
  },
  {
   "cell_type": "markdown",
   "id": "d5b2f31f-d305-4e97-902d-fd0d72ba36f5",
   "metadata": {},
   "source": [
    "## Colour analysis\n",
    "https://towardsdatascience.com/building-an-image-color-analyzer-using-python-12de6b0acf74\n",
    "\n",
    "* First, we are using k-Means to cluster the top colors. Inside the function we are passing the value of how many clusters do we want to divide. Here is the documentation for K-Means clustering. After clustering we predict the colors that weigh the most — meaning getting the most area on the image.\n",
    "* Secondly, we are calling the Counter function. Counter creates a container to the elements as dictionary keys, and their volume is store as dictionary values. If you are not familiar with dictionaries, they store data in key: value pairs. They are like function, and when you pass in the “key,” you can “value” as a return. Then we are ordering the colors according to the keys."
   ]
  },
  {
   "cell_type": "code",
   "execution_count": 6,
   "id": "b471088a-157e-45a8-8ee9-d923a3c3617f",
   "metadata": {},
   "outputs": [],
   "source": [
    "def prep_image(raw_img):\n",
    "    modified_img = cv2.resize(raw_img, (900, 600), interpolation = cv2.INTER_AREA)\n",
    "    modified_img = modified_img.reshape(modified_img.shape[0]*modified_img.shape[1], 3)\n",
    "    return modified_img\n",
    "\n",
    "def color_analysis(img):\n",
    "    clf = KMeans(n_clusters = 5)  # 5 top colours\n",
    "    color_labels = clf.fit_predict(img)\n",
    "    center_colors = clf.cluster_centers_\n",
    "    counts = Counter(color_labels)\n",
    "    ordered_colors = [center_colors[i] for i in counts.keys()]\n",
    "    return ordered_colors"
   ]
  },
  {
   "cell_type": "markdown",
   "id": "4a2642ea-c838-4f82-bea9-dad938d1f210",
   "metadata": {},
   "source": [
    "### From the dataframe caclulate some metrics\n",
    "\n",
    "Add some Facebook metrics too: `piq` PyTorch Image Quality\n",
    "* https://github.com/photosynthesis-team/piq/blob/master/examples/image_metrics.py"
   ]
  },
  {
   "cell_type": "code",
   "execution_count": 7,
   "id": "f27d2622-0eee-4940-98bd-2c442fa2ffc4",
   "metadata": {
    "tags": []
   },
   "outputs": [
    {
     "name": "stdout",
     "output_type": "stream",
     "text": [
      "/data/andra\n",
      "0\n",
      "/data/andra\n",
      "1\n",
      "/data/andra\n",
      "2\n",
      "/data/andra\n",
      "3\n",
      "/data/andra\n",
      "4\n",
      "/data/andra\n",
      "5\n",
      "/data/andra\n",
      "6\n",
      "/data/andra\n",
      "7\n",
      "/data/andra\n",
      "8\n",
      "/data/andra\n",
      "9\n",
      "/data/andra\n",
      "10\n",
      "/data/andra\n",
      "11\n",
      "/data/andra\n",
      "12\n",
      "/data/andra\n",
      "13\n",
      "/data/andra\n",
      "14\n",
      "/data/andra\n",
      "15\n",
      "/data/andra\n",
      "2967\n",
      "/data/andra\n",
      "2968\n",
      "/data/andra\n",
      "2969\n",
      "/data/andra\n",
      "2970\n",
      "/data/andra\n",
      "2971\n",
      "/data/andra\n",
      "2972\n",
      "/data/andra\n",
      "2973\n",
      "/data/andra\n",
      "2974\n",
      "/data/andra\n",
      "2975\n",
      "/data/andra\n",
      "2976\n",
      "/data/andra\n",
      "2977\n",
      "/data/andra\n",
      "2978\n",
      "/data/andra\n",
      "2979\n",
      "/data/andra\n",
      "2980\n",
      "/data/andra\n",
      "2981\n",
      "/data/andra\n",
      "2982\n",
      "/data/andra\n",
      "16\n",
      "/data/andra\n",
      "17\n",
      "/data/andra\n",
      "18\n",
      "/data/andra\n",
      "19\n",
      "/data/andra\n",
      "20\n",
      "/data/andra\n",
      "21\n",
      "/data/andra\n",
      "22\n",
      "/data/andra\n",
      "23\n",
      "/data/andra\n",
      "24\n",
      "/data/andra\n",
      "25\n",
      "/data/andra\n",
      "26\n",
      "/data/andra\n",
      "27\n",
      "/data/andra\n",
      "28\n",
      "/data/andra\n",
      "29\n",
      "/data/andra\n",
      "30\n",
      "/data/andra\n",
      "31\n",
      "/data/andra\n",
      "32\n",
      "/data/andra\n",
      "33\n",
      "/data/andra\n",
      "34\n",
      "/data/andra\n",
      "35\n",
      "/data/andra\n",
      "36\n",
      "/data/andra\n",
      "37\n",
      "/data/andra\n",
      "38\n",
      "/data/andra\n",
      "39\n",
      "/data/andra\n",
      "40\n",
      "/data/andra\n",
      "41\n",
      "/data/andra\n",
      "42\n",
      "/data/andra\n",
      "43\n",
      "/data/andra\n",
      "44\n",
      "/data/andra\n",
      "45\n",
      "/data/andra\n",
      "46\n",
      "/data/andra\n",
      "47\n",
      "/data/andra\n",
      "48\n",
      "/data/andra\n",
      "49\n",
      "/data/andra\n",
      "50\n",
      "/data/andra\n",
      "51\n",
      "/data/andra\n",
      "52\n",
      "/data/andra\n",
      "53\n",
      "/data/andra\n",
      "54\n",
      "/data/andra\n",
      "55\n",
      "/data/andra\n",
      "56\n",
      "/data/andra\n",
      "57\n",
      "/data/andra\n",
      "58\n",
      "/data/andra\n",
      "59\n",
      "/data/andra\n",
      "60\n",
      "/data/andra\n",
      "61\n",
      "/data/andra\n",
      "62\n",
      "/data/andra\n",
      "63\n",
      "/data/andra\n",
      "64\n",
      "/data/andra\n",
      "65\n",
      "/data/andra\n",
      "66\n",
      "/data/andra\n",
      "67\n",
      "/data/andra\n",
      "68\n",
      "/data/andra\n",
      "69\n",
      "/data/andra\n",
      "70\n",
      "/data/andra\n",
      "71\n",
      "/data/andra\n",
      "72\n",
      "/data/andra\n",
      "73\n",
      "/data/andra\n",
      "74\n",
      "/data/andra\n",
      "75\n",
      "/data/andra\n",
      "76\n",
      "/data/andra\n",
      "77\n",
      "/data/andra\n",
      "78\n",
      "/data/andra\n",
      "79\n",
      "/data/andra\n",
      "80\n",
      "/data/andra\n",
      "81\n",
      "/data/andra\n",
      "82\n",
      "/data/andra\n",
      "83\n",
      "/data/andra\n",
      "84\n",
      "/data/andra\n",
      "85\n",
      "/data/andra\n",
      "86\n",
      "/data/andra\n",
      "87\n",
      "/data/andra\n",
      "88\n",
      "/data/andra\n",
      "89\n",
      "/data/andra\n",
      "90\n",
      "/data/andra\n",
      "91\n",
      "/data/andra\n",
      "92\n",
      "/data/andra\n",
      "93\n",
      "/data/andra\n",
      "94\n",
      "/data/andra\n",
      "95\n",
      "/data/andra\n",
      "96\n",
      "/data/andra\n",
      "97\n",
      "/data/andra\n",
      "98\n",
      "/data/andra\n",
      "99\n",
      "/data/andra\n",
      "100\n",
      "/data/andra\n",
      "101\n",
      "/data/andra\n",
      "102\n",
      "/data/andra\n",
      "103\n",
      "/data/andra\n",
      "104\n",
      "/data/andra\n",
      "105\n",
      "/data/andra\n",
      "106\n",
      "/data/andra\n",
      "107\n",
      "/data/andra\n",
      "108\n",
      "/data/andra\n",
      "109\n",
      "/data/andra\n",
      "110\n",
      "/data/andra\n",
      "111\n",
      "/data/andra\n",
      "112\n",
      "/data/andra\n",
      "113\n",
      "/data/andra\n",
      "114\n",
      "/data/andra\n",
      "115\n",
      "/data/andra\n",
      "116\n",
      "/data/andra\n",
      "117\n",
      "/data/andra\n",
      "118\n",
      "/data/andra\n",
      "119\n",
      "/data/andra\n",
      "120\n",
      "/data/andra\n",
      "121\n",
      "/data/andra\n",
      "122\n",
      "/data/andra\n",
      "123\n",
      "/data/andra\n",
      "124\n",
      "/data/andra\n",
      "125\n",
      "/data/andra\n",
      "126\n",
      "/data/andra\n",
      "127\n",
      "/data/andra\n",
      "128\n",
      "/data/andra\n",
      "129\n",
      "/data/andra\n",
      "130\n",
      "/data/andra\n",
      "131\n",
      "/data/andra\n",
      "132\n",
      "/data/andra\n",
      "133\n",
      "/data/andra\n",
      "134\n",
      "/data/andra\n",
      "135\n",
      "/data/andra\n",
      "136\n",
      "/data/andra\n",
      "137\n",
      "/data/andra\n",
      "138\n",
      "/data/andra\n",
      "139\n",
      "/data/andra\n",
      "140\n",
      "/data/andra\n",
      "141\n",
      "/data/andra\n",
      "142\n",
      "/data/andra\n",
      "143\n",
      "/data/andra\n",
      "144\n",
      "/data/andra\n",
      "145\n",
      "/data/andra\n",
      "146\n",
      "/data/andra\n",
      "147\n",
      "/data/andra\n",
      "148\n",
      "/data/andra\n",
      "149\n",
      "/data/andra\n",
      "150\n",
      "/data/andra\n",
      "151\n",
      "/data/andra\n",
      "152\n",
      "/data/andra\n",
      "153\n",
      "/data/andra\n",
      "154\n",
      "/data/andra\n",
      "155\n",
      "/data/andra\n",
      "156\n",
      "/data/andra\n",
      "157\n",
      "/data/andra\n",
      "158\n",
      "/data/andra\n",
      "159\n",
      "/data/andra\n",
      "160\n",
      "/data/andra\n",
      "161\n",
      "/data/andra\n",
      "162\n",
      "/data/andra\n",
      "163\n",
      "/data/andra\n",
      "164\n",
      "/data/andra\n",
      "165\n",
      "/data/andra\n",
      "166\n",
      "/data/andra\n",
      "167\n",
      "/data/andra\n",
      "168\n",
      "/data/andra\n",
      "169\n",
      "/data/andra\n",
      "170\n",
      "/data/andra\n",
      "171\n",
      "/data/andra\n",
      "172\n",
      "/data/andra\n",
      "173\n",
      "/data/andra\n",
      "174\n",
      "/data/andra\n",
      "175\n",
      "/data/andra\n",
      "176\n",
      "/data/andra\n",
      "177\n",
      "/data/andra\n",
      "178\n",
      "/data/andra\n",
      "179\n",
      "/data/andra\n",
      "180\n",
      "/data/andra\n",
      "181\n",
      "/data/andra\n",
      "182\n",
      "/data/andra\n",
      "183\n",
      "/data/andra\n",
      "184\n",
      "/data/andra\n",
      "185\n",
      "/data/andra\n",
      "186\n",
      "/data/andra\n",
      "187\n",
      "/data/andra\n",
      "188\n",
      "/data/andra\n",
      "189\n",
      "/data/andra\n",
      "190\n",
      "/data/andra\n",
      "191\n",
      "/data/andra\n",
      "192\n",
      "/data/andra\n",
      "193\n",
      "/data/andra\n",
      "194\n",
      "/data/andra\n",
      "195\n",
      "/data/andra\n",
      "196\n",
      "/data/andra\n",
      "197\n",
      "/data/andra\n",
      "198\n",
      "/data/andra\n",
      "199\n",
      "/data/andra\n",
      "200\n",
      "/data/andra\n",
      "201\n",
      "/data/andra\n",
      "202\n",
      "/data/andra\n",
      "203\n",
      "/data/andra\n",
      "204\n",
      "/data/andra\n",
      "205\n",
      "/data/andra\n",
      "206\n",
      "/data/andra\n",
      "207\n",
      "/data/andra\n",
      "208\n",
      "/data/andra\n",
      "209\n",
      "/data/andra\n",
      "210\n",
      "/data/andra\n",
      "211\n",
      "/data/andra\n",
      "212\n",
      "/data/andra\n",
      "213\n",
      "/data/andra\n",
      "214\n",
      "/data/andra\n",
      "215\n",
      "/data/andra\n",
      "216\n",
      "/data/andra\n",
      "217\n",
      "/data/andra\n",
      "218\n",
      "/data/andra\n",
      "219\n",
      "/data/andra\n",
      "220\n",
      "/data/andra\n",
      "221\n",
      "/data/andra\n",
      "222\n",
      "/data/andra\n",
      "223\n",
      "/data/andra\n",
      "224\n",
      "/data/andra\n",
      "225\n",
      "/data/andra\n",
      "226\n",
      "/data/andra\n",
      "227\n",
      "/data/andra\n",
      "228\n",
      "/data/andra\n",
      "229\n",
      "/data/andra\n",
      "230\n",
      "/data/andra\n",
      "231\n",
      "/data/andra\n",
      "232\n",
      "/data/andra\n",
      "233\n",
      "/data/andra\n",
      "234\n",
      "/data/andra\n",
      "235\n",
      "/data/andra\n",
      "236\n",
      "/data/andra\n",
      "237\n",
      "/data/andra\n",
      "238\n",
      "/data/andra\n",
      "239\n",
      "/data/andra\n",
      "240\n",
      "/data/andra\n",
      "241\n",
      "/data/andra\n",
      "242\n",
      "/data/andra\n",
      "243\n",
      "/data/andra\n",
      "244\n",
      "/data/andra\n",
      "245\n",
      "/data/andra\n",
      "246\n",
      "/data/andra\n",
      "247\n",
      "/data/andra\n",
      "248\n",
      "/data/andra\n",
      "249\n",
      "/data/andra\n",
      "250\n",
      "/data/andra\n",
      "251\n",
      "/data/andra\n",
      "252\n",
      "/data/andra\n",
      "253\n",
      "/data/andra\n",
      "254\n",
      "/data/andra\n",
      "255\n",
      "/data/andra\n",
      "256\n",
      "/data/andra\n",
      "257\n",
      "/data/andra\n",
      "258\n",
      "/data/andra\n",
      "259\n",
      "/data/andra\n",
      "260\n",
      "/data/andra\n",
      "261\n",
      "/data/andra\n",
      "262\n",
      "/data/andra\n",
      "263\n",
      "/data/andra\n",
      "264\n",
      "/data/andra\n",
      "265\n",
      "/data/andra\n",
      "266\n",
      "/data/andra\n",
      "267\n",
      "/data/andra\n",
      "268\n",
      "/data/andra\n",
      "269\n",
      "/data/andra\n",
      "270\n",
      "/data/andra\n",
      "271\n",
      "/data/andra\n",
      "272\n",
      "/data/andra\n",
      "273\n",
      "/data/andra\n",
      "274\n",
      "/data/andra\n",
      "275\n",
      "/data/andra\n",
      "276\n",
      "/data/andra\n",
      "277\n",
      "/data/andra\n",
      "278\n",
      "/data/andra\n",
      "279\n",
      "/data/andra\n",
      "280\n",
      "/data/andra\n",
      "281\n",
      "/data/andra\n",
      "282\n",
      "/data/andra\n",
      "283\n",
      "/data/andra\n",
      "284\n",
      "/data/andra\n",
      "285\n",
      "/data/andra\n",
      "286\n",
      "/data/andra\n",
      "287\n",
      "/data/andra\n",
      "288\n",
      "/data/andra\n",
      "289\n",
      "/data/andra\n",
      "290\n",
      "/data/andra\n",
      "291\n",
      "/data/andra\n",
      "292\n",
      "/data/andra\n",
      "293\n",
      "/data/andra\n",
      "294\n",
      "/data/andra\n",
      "295\n",
      "/data/andra\n",
      "296\n",
      "/data/andra\n",
      "297\n",
      "/data/andra\n",
      "298\n",
      "/data/andra\n",
      "299\n",
      "/data/andra\n",
      "300\n",
      "/data/andra\n",
      "301\n",
      "/data/andra\n",
      "302\n",
      "/data/andra\n",
      "303\n",
      "/data/andra\n",
      "304\n",
      "/data/andra\n",
      "305\n",
      "/data/andra\n",
      "306\n",
      "/data/andra\n",
      "307\n",
      "/data/andra\n",
      "308\n",
      "/data/andra\n",
      "309\n",
      "/data/andra\n",
      "310\n",
      "/data/andra\n",
      "311\n",
      "/data/andra\n",
      "312\n",
      "/data/andra\n",
      "313\n",
      "/data/andra\n",
      "314\n",
      "/data/andra\n",
      "315\n",
      "/data/andra\n",
      "316\n",
      "/data/andra\n",
      "317\n",
      "/data/andra\n",
      "318\n",
      "/data/andra\n",
      "319\n",
      "/data/andra\n",
      "320\n",
      "/data/andra\n",
      "321\n",
      "/data/andra\n",
      "322\n",
      "/data/andra\n",
      "323\n",
      "/data/andra\n",
      "324\n",
      "/data/andra\n",
      "325\n",
      "/data/andra\n",
      "326\n",
      "/data/andra\n",
      "327\n",
      "/data/andra\n",
      "328\n",
      "/data/andra\n",
      "329\n",
      "/data/andra\n",
      "330\n",
      "/data/andra\n",
      "331\n",
      "/data/andra\n",
      "332\n",
      "/data/andra\n",
      "333\n",
      "/data/andra\n",
      "334\n",
      "/data/andra\n",
      "335\n",
      "/data/andra\n",
      "336\n",
      "/data/andra\n",
      "337\n",
      "/data/andra\n",
      "338\n",
      "/data/andra\n",
      "339\n",
      "/data/andra\n",
      "340\n",
      "/data/andra\n",
      "341\n",
      "/data/andra\n",
      "342\n",
      "/data/andra\n",
      "343\n",
      "/data/andra\n",
      "344\n",
      "/data/andra\n",
      "345\n",
      "/data/andra\n",
      "346\n",
      "/data/andra\n",
      "347\n",
      "/data/andra\n",
      "348\n",
      "/data/andra\n",
      "349\n",
      "/data/andra\n",
      "350\n",
      "/data/andra\n",
      "351\n",
      "/data/andra\n",
      "352\n",
      "/data/andra\n",
      "353\n",
      "/data/andra\n",
      "354\n",
      "/data/andra\n",
      "355\n",
      "/data/andra\n",
      "356\n",
      "/data/andra\n",
      "357\n",
      "/data/andra\n",
      "358\n",
      "/data/andra\n",
      "359\n",
      "/data/andra\n",
      "360\n",
      "/data/andra\n",
      "361\n",
      "/data/andra\n",
      "362\n",
      "/data/andra\n",
      "363\n",
      "/data/andra\n",
      "364\n",
      "/data/andra\n",
      "365\n",
      "/data/andra\n",
      "366\n",
      "/data/andra\n",
      "367\n",
      "/data/andra\n",
      "368\n",
      "/data/andra\n",
      "369\n",
      "/data/andra\n",
      "370\n",
      "/data/andra\n",
      "371\n",
      "/data/andra\n",
      "372\n",
      "/data/andra\n",
      "373\n",
      "/data/andra\n",
      "374\n",
      "/data/andra\n",
      "375\n",
      "/data/andra\n",
      "376\n",
      "/data/andra\n",
      "377\n",
      "/data/andra\n",
      "378\n",
      "/data/andra\n",
      "379\n",
      "/data/andra\n",
      "380\n",
      "/data/andra\n",
      "381\n",
      "/data/andra\n",
      "382\n",
      "/data/andra\n",
      "383\n",
      "/data/andra\n",
      "384\n",
      "/data/andra\n",
      "385\n",
      "/data/andra\n",
      "386\n",
      "/data/andra\n",
      "387\n",
      "/data/andra\n",
      "388\n",
      "/data/andra\n",
      "389\n",
      "/data/andra\n",
      "390\n",
      "/data/andra\n",
      "391\n",
      "/data/andra\n",
      "392\n",
      "/data/andra\n",
      "393\n",
      "/data/andra\n",
      "394\n",
      "/data/andra\n",
      "395\n",
      "/data/andra\n",
      "396\n",
      "/data/andra\n",
      "397\n",
      "/data/andra\n",
      "398\n",
      "/data/andra\n",
      "399\n",
      "/data/andra\n",
      "400\n",
      "/data/andra\n",
      "401\n",
      "/data/andra\n",
      "402\n",
      "/data/andra\n",
      "403\n",
      "/data/andra\n",
      "404\n",
      "/data/andra\n",
      "405\n",
      "/data/andra\n",
      "406\n",
      "/data/andra\n",
      "407\n",
      "/data/andra\n",
      "408\n",
      "/data/andra\n",
      "409\n",
      "/data/andra\n",
      "410\n",
      "/data/andra\n",
      "411\n",
      "/data/andra\n",
      "412\n",
      "/data/andra\n",
      "413\n",
      "/data/andra\n",
      "414\n",
      "/data/andra\n",
      "415\n",
      "/data/andra\n",
      "416\n",
      "/data/andra\n",
      "417\n",
      "/data/andra\n",
      "418\n",
      "/data/andra\n",
      "419\n",
      "/data/andra\n",
      "420\n",
      "/data/andra\n",
      "421\n",
      "/data/andra\n",
      "422\n",
      "/data/andra\n",
      "423\n",
      "/data/andra\n",
      "424\n",
      "/data/andra\n",
      "425\n",
      "/data/andra\n",
      "426\n",
      "/data/andra\n",
      "427\n",
      "/data/andra\n",
      "428\n",
      "/data/andra\n",
      "429\n",
      "/data/andra\n",
      "430\n",
      "/data/andra\n",
      "431\n",
      "/data/andra\n",
      "432\n",
      "/data/andra\n",
      "433\n",
      "/data/andra\n",
      "434\n",
      "/data/andra\n",
      "435\n",
      "/data/andra\n",
      "436\n",
      "/data/andra\n",
      "437\n",
      "/data/andra\n",
      "438\n",
      "/data/andra\n",
      "439\n",
      "/data/andra\n",
      "440\n",
      "/data/andra\n",
      "441\n",
      "/data/andra\n",
      "442\n",
      "/data/andra\n",
      "443\n",
      "/data/andra\n",
      "444\n",
      "/data/andra\n",
      "445\n",
      "/data/andra\n",
      "446\n",
      "/data/andra\n",
      "447\n",
      "/data/andra\n",
      "448\n",
      "/data/andra\n",
      "449\n",
      "/data/andra\n",
      "450\n",
      "/data/andra\n",
      "451\n",
      "/data/andra\n",
      "452\n",
      "/data/andra\n",
      "453\n",
      "/data/andra\n",
      "454\n",
      "/data/andra\n",
      "455\n",
      "/data/andra\n",
      "456\n",
      "/data/andra\n",
      "457\n",
      "/data/andra\n",
      "458\n",
      "/data/andra\n",
      "459\n",
      "/data/andra\n",
      "460\n",
      "/data/andra\n",
      "461\n",
      "/data/andra\n",
      "462\n",
      "/data/andra\n",
      "463\n",
      "/data/andra\n",
      "464\n",
      "/data/andra\n",
      "465\n",
      "/data/andra\n",
      "466\n",
      "/data/andra\n",
      "467\n",
      "/data/andra\n",
      "468\n",
      "/data/andra\n",
      "469\n",
      "/data/andra\n",
      "470\n",
      "/data/andra\n",
      "471\n",
      "/data/andra\n",
      "472\n",
      "/data/andra\n",
      "473\n",
      "/data/andra\n",
      "474\n",
      "/data/andra\n",
      "475\n",
      "/data/andra\n",
      "476\n",
      "/data/andra\n",
      "477\n",
      "/data/andra\n"
     ]
    },
    {
     "name": "stderr",
     "output_type": "stream",
     "text": [
      "/work/armitagj/miniconda3/envs/ai.calcimetry/lib/python3.10/site-packages/PIL/Image.py:3011: DecompressionBombWarning: Image size (124914150 pixels) exceeds limit of 89478485 pixels, could be decompression bomb DOS attack.\n",
      "  warnings.warn(\n"
     ]
    },
    {
     "name": "stdout",
     "output_type": "stream",
     "text": [
      "478\n",
      "/data/andra\n"
     ]
    },
    {
     "name": "stderr",
     "output_type": "stream",
     "text": [
      "/work/armitagj/miniconda3/envs/ai.calcimetry/lib/python3.10/site-packages/PIL/Image.py:3011: DecompressionBombWarning: Image size (124719089 pixels) exceeds limit of 89478485 pixels, could be decompression bomb DOS attack.\n",
      "  warnings.warn(\n"
     ]
    },
    {
     "name": "stdout",
     "output_type": "stream",
     "text": [
      "479\n",
      "/data/andra\n"
     ]
    },
    {
     "name": "stderr",
     "output_type": "stream",
     "text": [
      "/work/armitagj/miniconda3/envs/ai.calcimetry/lib/python3.10/site-packages/PIL/Image.py:3011: DecompressionBombWarning: Image size (108646314 pixels) exceeds limit of 89478485 pixels, could be decompression bomb DOS attack.\n",
      "  warnings.warn(\n"
     ]
    },
    {
     "name": "stdout",
     "output_type": "stream",
     "text": [
      "480\n",
      "/data/andra\n"
     ]
    },
    {
     "name": "stderr",
     "output_type": "stream",
     "text": [
      "/work/armitagj/miniconda3/envs/ai.calcimetry/lib/python3.10/site-packages/PIL/Image.py:3011: DecompressionBombWarning: Image size (130359796 pixels) exceeds limit of 89478485 pixels, could be decompression bomb DOS attack.\n",
      "  warnings.warn(\n"
     ]
    },
    {
     "name": "stdout",
     "output_type": "stream",
     "text": [
      "481\n",
      "/data/andra\n"
     ]
    },
    {
     "name": "stderr",
     "output_type": "stream",
     "text": [
      "/work/armitagj/miniconda3/envs/ai.calcimetry/lib/python3.10/site-packages/PIL/Image.py:3011: DecompressionBombWarning: Image size (114721032 pixels) exceeds limit of 89478485 pixels, could be decompression bomb DOS attack.\n",
      "  warnings.warn(\n"
     ]
    },
    {
     "name": "stdout",
     "output_type": "stream",
     "text": [
      "482\n",
      "/data/andra\n",
      "483\n"
     ]
    },
    {
     "name": "stderr",
     "output_type": "stream",
     "text": [
      "/work/armitagj/miniconda3/envs/ai.calcimetry/lib/python3.10/site-packages/PIL/Image.py:3011: DecompressionBombWarning: Image size (139465998 pixels) exceeds limit of 89478485 pixels, could be decompression bomb DOS attack.\n",
      "  warnings.warn(\n"
     ]
    },
    {
     "name": "stdout",
     "output_type": "stream",
     "text": [
      "/data/andra\n"
     ]
    },
    {
     "name": "stderr",
     "output_type": "stream",
     "text": [
      "/work/armitagj/miniconda3/envs/ai.calcimetry/lib/python3.10/site-packages/PIL/Image.py:3011: DecompressionBombWarning: Image size (117138450 pixels) exceeds limit of 89478485 pixels, could be decompression bomb DOS attack.\n",
      "  warnings.warn(\n"
     ]
    },
    {
     "name": "stdout",
     "output_type": "stream",
     "text": [
      "484\n",
      "/data/andra\n"
     ]
    },
    {
     "name": "stderr",
     "output_type": "stream",
     "text": [
      "/work/armitagj/miniconda3/envs/ai.calcimetry/lib/python3.10/site-packages/PIL/Image.py:3011: DecompressionBombWarning: Image size (109352139 pixels) exceeds limit of 89478485 pixels, could be decompression bomb DOS attack.\n",
      "  warnings.warn(\n"
     ]
    },
    {
     "name": "stdout",
     "output_type": "stream",
     "text": [
      "485\n",
      "/data/andra\n"
     ]
    },
    {
     "name": "stderr",
     "output_type": "stream",
     "text": [
      "/work/armitagj/miniconda3/envs/ai.calcimetry/lib/python3.10/site-packages/PIL/Image.py:3011: DecompressionBombWarning: Image size (134166966 pixels) exceeds limit of 89478485 pixels, could be decompression bomb DOS attack.\n",
      "  warnings.warn(\n"
     ]
    },
    {
     "name": "stdout",
     "output_type": "stream",
     "text": [
      "486\n",
      "/data/andra\n"
     ]
    },
    {
     "name": "stderr",
     "output_type": "stream",
     "text": [
      "/work/armitagj/miniconda3/envs/ai.calcimetry/lib/python3.10/site-packages/PIL/Image.py:3011: DecompressionBombWarning: Image size (122897091 pixels) exceeds limit of 89478485 pixels, could be decompression bomb DOS attack.\n",
      "  warnings.warn(\n"
     ]
    },
    {
     "name": "stdout",
     "output_type": "stream",
     "text": [
      "487\n",
      "/data/andra\n"
     ]
    },
    {
     "name": "stderr",
     "output_type": "stream",
     "text": [
      "/work/armitagj/miniconda3/envs/ai.calcimetry/lib/python3.10/site-packages/PIL/Image.py:3011: DecompressionBombWarning: Image size (119614004 pixels) exceeds limit of 89478485 pixels, could be decompression bomb DOS attack.\n",
      "  warnings.warn(\n"
     ]
    },
    {
     "name": "stdout",
     "output_type": "stream",
     "text": [
      "488\n",
      "/data/andra\n"
     ]
    },
    {
     "name": "stderr",
     "output_type": "stream",
     "text": [
      "/work/armitagj/miniconda3/envs/ai.calcimetry/lib/python3.10/site-packages/PIL/Image.py:3011: DecompressionBombWarning: Image size (133110900 pixels) exceeds limit of 89478485 pixels, could be decompression bomb DOS attack.\n",
      "  warnings.warn(\n"
     ]
    },
    {
     "name": "stdout",
     "output_type": "stream",
     "text": [
      "489\n",
      "/data/andra\n"
     ]
    },
    {
     "name": "stderr",
     "output_type": "stream",
     "text": [
      "/work/armitagj/miniconda3/envs/ai.calcimetry/lib/python3.10/site-packages/PIL/Image.py:3011: DecompressionBombWarning: Image size (115612350 pixels) exceeds limit of 89478485 pixels, could be decompression bomb DOS attack.\n",
      "  warnings.warn(\n"
     ]
    },
    {
     "name": "stdout",
     "output_type": "stream",
     "text": [
      "490\n",
      "/data/andra\n"
     ]
    },
    {
     "name": "stderr",
     "output_type": "stream",
     "text": [
      "/work/armitagj/miniconda3/envs/ai.calcimetry/lib/python3.10/site-packages/PIL/Image.py:3011: DecompressionBombWarning: Image size (109981800 pixels) exceeds limit of 89478485 pixels, could be decompression bomb DOS attack.\n",
      "  warnings.warn(\n"
     ]
    },
    {
     "name": "stdout",
     "output_type": "stream",
     "text": [
      "491\n",
      "/data/andra\n"
     ]
    },
    {
     "name": "stderr",
     "output_type": "stream",
     "text": [
      "/work/armitagj/miniconda3/envs/ai.calcimetry/lib/python3.10/site-packages/PIL/Image.py:3011: DecompressionBombWarning: Image size (121421025 pixels) exceeds limit of 89478485 pixels, could be decompression bomb DOS attack.\n",
      "  warnings.warn(\n"
     ]
    },
    {
     "name": "stdout",
     "output_type": "stream",
     "text": [
      "492\n",
      "/data/andra\n"
     ]
    },
    {
     "name": "stderr",
     "output_type": "stream",
     "text": [
      "/work/armitagj/miniconda3/envs/ai.calcimetry/lib/python3.10/site-packages/PIL/Image.py:3011: DecompressionBombWarning: Image size (129632373 pixels) exceeds limit of 89478485 pixels, could be decompression bomb DOS attack.\n",
      "  warnings.warn(\n"
     ]
    },
    {
     "name": "stdout",
     "output_type": "stream",
     "text": [
      "493\n",
      "/data/andra\n"
     ]
    },
    {
     "name": "stderr",
     "output_type": "stream",
     "text": [
      "/work/armitagj/miniconda3/envs/ai.calcimetry/lib/python3.10/site-packages/PIL/Image.py:3011: DecompressionBombWarning: Image size (118669364 pixels) exceeds limit of 89478485 pixels, could be decompression bomb DOS attack.\n",
      "  warnings.warn(\n"
     ]
    },
    {
     "name": "stdout",
     "output_type": "stream",
     "text": [
      "494\n",
      "/data/andra\n"
     ]
    },
    {
     "name": "stderr",
     "output_type": "stream",
     "text": [
      "/work/armitagj/miniconda3/envs/ai.calcimetry/lib/python3.10/site-packages/PIL/Image.py:3011: DecompressionBombWarning: Image size (108419850 pixels) exceeds limit of 89478485 pixels, could be decompression bomb DOS attack.\n",
      "  warnings.warn(\n"
     ]
    },
    {
     "name": "stdout",
     "output_type": "stream",
     "text": [
      "495\n",
      "/data/andra\n"
     ]
    },
    {
     "name": "stderr",
     "output_type": "stream",
     "text": [
      "/work/armitagj/miniconda3/envs/ai.calcimetry/lib/python3.10/site-packages/PIL/Image.py:3011: DecompressionBombWarning: Image size (96111298 pixels) exceeds limit of 89478485 pixels, could be decompression bomb DOS attack.\n",
      "  warnings.warn(\n"
     ]
    },
    {
     "name": "stdout",
     "output_type": "stream",
     "text": [
      "496\n",
      "/data/andra\n",
      "497\n"
     ]
    },
    {
     "name": "stderr",
     "output_type": "stream",
     "text": [
      "/work/armitagj/miniconda3/envs/ai.calcimetry/lib/python3.10/site-packages/PIL/Image.py:3011: DecompressionBombWarning: Image size (94374276 pixels) exceeds limit of 89478485 pixels, could be decompression bomb DOS attack.\n",
      "  warnings.warn(\n"
     ]
    },
    {
     "name": "stdout",
     "output_type": "stream",
     "text": [
      "/data/andra\n"
     ]
    },
    {
     "name": "stderr",
     "output_type": "stream",
     "text": [
      "/work/armitagj/miniconda3/envs/ai.calcimetry/lib/python3.10/site-packages/PIL/Image.py:3011: DecompressionBombWarning: Image size (121251168 pixels) exceeds limit of 89478485 pixels, could be decompression bomb DOS attack.\n",
      "  warnings.warn(\n"
     ]
    },
    {
     "name": "stdout",
     "output_type": "stream",
     "text": [
      "498\n",
      "/data/andra\n"
     ]
    },
    {
     "name": "stderr",
     "output_type": "stream",
     "text": [
      "/work/armitagj/miniconda3/envs/ai.calcimetry/lib/python3.10/site-packages/PIL/Image.py:3011: DecompressionBombWarning: Image size (102004800 pixels) exceeds limit of 89478485 pixels, could be decompression bomb DOS attack.\n",
      "  warnings.warn(\n"
     ]
    },
    {
     "name": "stdout",
     "output_type": "stream",
     "text": [
      "499\n",
      "/data/andra\n"
     ]
    },
    {
     "name": "stderr",
     "output_type": "stream",
     "text": [
      "/work/armitagj/miniconda3/envs/ai.calcimetry/lib/python3.10/site-packages/PIL/Image.py:3011: DecompressionBombWarning: Image size (112964670 pixels) exceeds limit of 89478485 pixels, could be decompression bomb DOS attack.\n",
      "  warnings.warn(\n"
     ]
    },
    {
     "name": "stdout",
     "output_type": "stream",
     "text": [
      "500\n",
      "/data/andra\n"
     ]
    },
    {
     "name": "stderr",
     "output_type": "stream",
     "text": [
      "/work/armitagj/miniconda3/envs/ai.calcimetry/lib/python3.10/site-packages/PIL/Image.py:3011: DecompressionBombWarning: Image size (134181132 pixels) exceeds limit of 89478485 pixels, could be decompression bomb DOS attack.\n",
      "  warnings.warn(\n"
     ]
    },
    {
     "name": "stdout",
     "output_type": "stream",
     "text": [
      "501\n",
      "/data/andra\n"
     ]
    },
    {
     "name": "stderr",
     "output_type": "stream",
     "text": [
      "/work/armitagj/miniconda3/envs/ai.calcimetry/lib/python3.10/site-packages/PIL/Image.py:3011: DecompressionBombWarning: Image size (103322934 pixels) exceeds limit of 89478485 pixels, could be decompression bomb DOS attack.\n",
      "  warnings.warn(\n"
     ]
    },
    {
     "name": "stdout",
     "output_type": "stream",
     "text": [
      "502\n",
      "/data/andra\n"
     ]
    },
    {
     "name": "stderr",
     "output_type": "stream",
     "text": [
      "/work/armitagj/miniconda3/envs/ai.calcimetry/lib/python3.10/site-packages/PIL/Image.py:3011: DecompressionBombWarning: Image size (99700524 pixels) exceeds limit of 89478485 pixels, could be decompression bomb DOS attack.\n",
      "  warnings.warn(\n"
     ]
    },
    {
     "name": "stdout",
     "output_type": "stream",
     "text": [
      "503\n",
      "/data/andra\n"
     ]
    },
    {
     "name": "stderr",
     "output_type": "stream",
     "text": [
      "/work/armitagj/miniconda3/envs/ai.calcimetry/lib/python3.10/site-packages/PIL/Image.py:3011: DecompressionBombWarning: Image size (134649216 pixels) exceeds limit of 89478485 pixels, could be decompression bomb DOS attack.\n",
      "  warnings.warn(\n"
     ]
    },
    {
     "name": "stdout",
     "output_type": "stream",
     "text": [
      "504\n",
      "/data/andra\n"
     ]
    },
    {
     "name": "stderr",
     "output_type": "stream",
     "text": [
      "/work/armitagj/miniconda3/envs/ai.calcimetry/lib/python3.10/site-packages/PIL/Image.py:3011: DecompressionBombWarning: Image size (152407812 pixels) exceeds limit of 89478485 pixels, could be decompression bomb DOS attack.\n",
      "  warnings.warn(\n"
     ]
    },
    {
     "name": "stdout",
     "output_type": "stream",
     "text": [
      "505\n",
      "/data/andra\n"
     ]
    },
    {
     "name": "stderr",
     "output_type": "stream",
     "text": [
      "/work/armitagj/miniconda3/envs/ai.calcimetry/lib/python3.10/site-packages/PIL/Image.py:3011: DecompressionBombWarning: Image size (131730314 pixels) exceeds limit of 89478485 pixels, could be decompression bomb DOS attack.\n",
      "  warnings.warn(\n"
     ]
    },
    {
     "name": "stdout",
     "output_type": "stream",
     "text": [
      "506\n",
      "/data/andra\n",
      "507\n"
     ]
    },
    {
     "name": "stderr",
     "output_type": "stream",
     "text": [
      "/work/armitagj/miniconda3/envs/ai.calcimetry/lib/python3.10/site-packages/PIL/Image.py:3011: DecompressionBombWarning: Image size (111908196 pixels) exceeds limit of 89478485 pixels, could be decompression bomb DOS attack.\n",
      "  warnings.warn(\n"
     ]
    },
    {
     "name": "stdout",
     "output_type": "stream",
     "text": [
      "/data/andra\n",
      "508\n",
      "/data/andra\n",
      "509\n"
     ]
    },
    {
     "name": "stderr",
     "output_type": "stream",
     "text": [
      "/work/armitagj/miniconda3/envs/ai.calcimetry/lib/python3.10/site-packages/PIL/Image.py:3011: DecompressionBombWarning: Image size (119910996 pixels) exceeds limit of 89478485 pixels, could be decompression bomb DOS attack.\n",
      "  warnings.warn(\n"
     ]
    },
    {
     "name": "stdout",
     "output_type": "stream",
     "text": [
      "/data/andra\n",
      "510\n"
     ]
    },
    {
     "name": "stderr",
     "output_type": "stream",
     "text": [
      "/work/armitagj/miniconda3/envs/ai.calcimetry/lib/python3.10/site-packages/PIL/Image.py:3011: DecompressionBombWarning: Image size (110236279 pixels) exceeds limit of 89478485 pixels, could be decompression bomb DOS attack.\n",
      "  warnings.warn(\n"
     ]
    },
    {
     "name": "stdout",
     "output_type": "stream",
     "text": [
      "/data/andra\n",
      "511\n"
     ]
    },
    {
     "name": "stderr",
     "output_type": "stream",
     "text": [
      "/work/armitagj/miniconda3/envs/ai.calcimetry/lib/python3.10/site-packages/PIL/Image.py:3011: DecompressionBombWarning: Image size (117627975 pixels) exceeds limit of 89478485 pixels, could be decompression bomb DOS attack.\n",
      "  warnings.warn(\n"
     ]
    },
    {
     "name": "stdout",
     "output_type": "stream",
     "text": [
      "/data/andra\n",
      "512\n"
     ]
    },
    {
     "name": "stderr",
     "output_type": "stream",
     "text": [
      "/work/armitagj/miniconda3/envs/ai.calcimetry/lib/python3.10/site-packages/PIL/Image.py:3011: DecompressionBombWarning: Image size (110978910 pixels) exceeds limit of 89478485 pixels, could be decompression bomb DOS attack.\n",
      "  warnings.warn(\n"
     ]
    },
    {
     "name": "stdout",
     "output_type": "stream",
     "text": [
      "/data/andra\n",
      "513\n"
     ]
    },
    {
     "name": "stderr",
     "output_type": "stream",
     "text": [
      "/work/armitagj/miniconda3/envs/ai.calcimetry/lib/python3.10/site-packages/PIL/Image.py:3011: DecompressionBombWarning: Image size (107521584 pixels) exceeds limit of 89478485 pixels, could be decompression bomb DOS attack.\n",
      "  warnings.warn(\n"
     ]
    },
    {
     "name": "stdout",
     "output_type": "stream",
     "text": [
      "/data/andra\n",
      "514\n"
     ]
    },
    {
     "name": "stderr",
     "output_type": "stream",
     "text": [
      "/work/armitagj/miniconda3/envs/ai.calcimetry/lib/python3.10/site-packages/PIL/Image.py:3011: DecompressionBombWarning: Image size (105838736 pixels) exceeds limit of 89478485 pixels, could be decompression bomb DOS attack.\n",
      "  warnings.warn(\n"
     ]
    },
    {
     "name": "stdout",
     "output_type": "stream",
     "text": [
      "/data/andra\n",
      "515\n"
     ]
    },
    {
     "name": "stderr",
     "output_type": "stream",
     "text": [
      "/work/armitagj/miniconda3/envs/ai.calcimetry/lib/python3.10/site-packages/PIL/Image.py:3011: DecompressionBombWarning: Image size (114452427 pixels) exceeds limit of 89478485 pixels, could be decompression bomb DOS attack.\n",
      "  warnings.warn(\n"
     ]
    },
    {
     "name": "stdout",
     "output_type": "stream",
     "text": [
      "/data/andra\n"
     ]
    },
    {
     "name": "stderr",
     "output_type": "stream",
     "text": [
      "/work/armitagj/miniconda3/envs/ai.calcimetry/lib/python3.10/site-packages/PIL/Image.py:3011: DecompressionBombWarning: Image size (94494972 pixels) exceeds limit of 89478485 pixels, could be decompression bomb DOS attack.\n",
      "  warnings.warn(\n"
     ]
    },
    {
     "name": "stdout",
     "output_type": "stream",
     "text": [
      "516\n",
      "/data/andra\n",
      "517\n"
     ]
    },
    {
     "name": "stderr",
     "output_type": "stream",
     "text": [
      "/work/armitagj/miniconda3/envs/ai.calcimetry/lib/python3.10/site-packages/PIL/Image.py:3011: DecompressionBombWarning: Image size (93424428 pixels) exceeds limit of 89478485 pixels, could be decompression bomb DOS attack.\n",
      "  warnings.warn(\n"
     ]
    },
    {
     "name": "stdout",
     "output_type": "stream",
     "text": [
      "/data/andra\n"
     ]
    },
    {
     "name": "stderr",
     "output_type": "stream",
     "text": [
      "/work/armitagj/miniconda3/envs/ai.calcimetry/lib/python3.10/site-packages/PIL/Image.py:3011: DecompressionBombWarning: Image size (94531830 pixels) exceeds limit of 89478485 pixels, could be decompression bomb DOS attack.\n",
      "  warnings.warn(\n"
     ]
    },
    {
     "name": "stdout",
     "output_type": "stream",
     "text": [
      "518\n",
      "/data/andra\n",
      "519\n"
     ]
    },
    {
     "name": "stderr",
     "output_type": "stream",
     "text": [
      "/work/armitagj/miniconda3/envs/ai.calcimetry/lib/python3.10/site-packages/PIL/Image.py:3011: DecompressionBombWarning: Image size (101378725 pixels) exceeds limit of 89478485 pixels, could be decompression bomb DOS attack.\n",
      "  warnings.warn(\n"
     ]
    },
    {
     "name": "stdout",
     "output_type": "stream",
     "text": [
      "/data/andra\n",
      "520\n"
     ]
    },
    {
     "name": "stderr",
     "output_type": "stream",
     "text": [
      "/work/armitagj/miniconda3/envs/ai.calcimetry/lib/python3.10/site-packages/PIL/Image.py:3011: DecompressionBombWarning: Image size (101769800 pixels) exceeds limit of 89478485 pixels, could be decompression bomb DOS attack.\n",
      "  warnings.warn(\n"
     ]
    },
    {
     "name": "stdout",
     "output_type": "stream",
     "text": [
      "/data/andra\n",
      "521\n",
      "/data/andra\n",
      "522\n"
     ]
    },
    {
     "name": "stderr",
     "output_type": "stream",
     "text": [
      "/work/armitagj/miniconda3/envs/ai.calcimetry/lib/python3.10/site-packages/PIL/Image.py:3011: DecompressionBombWarning: Image size (99816448 pixels) exceeds limit of 89478485 pixels, could be decompression bomb DOS attack.\n",
      "  warnings.warn(\n"
     ]
    },
    {
     "name": "stdout",
     "output_type": "stream",
     "text": [
      "/data/andra\n",
      "523\n"
     ]
    },
    {
     "name": "stderr",
     "output_type": "stream",
     "text": [
      "/work/armitagj/miniconda3/envs/ai.calcimetry/lib/python3.10/site-packages/PIL/Image.py:3011: DecompressionBombWarning: Image size (118545911 pixels) exceeds limit of 89478485 pixels, could be decompression bomb DOS attack.\n",
      "  warnings.warn(\n"
     ]
    },
    {
     "name": "stdout",
     "output_type": "stream",
     "text": [
      "/data/andra\n",
      "524\n"
     ]
    },
    {
     "name": "stderr",
     "output_type": "stream",
     "text": [
      "/work/armitagj/miniconda3/envs/ai.calcimetry/lib/python3.10/site-packages/PIL/Image.py:3011: DecompressionBombWarning: Image size (153727200 pixels) exceeds limit of 89478485 pixels, could be decompression bomb DOS attack.\n",
      "  warnings.warn(\n"
     ]
    },
    {
     "name": "stdout",
     "output_type": "stream",
     "text": [
      "/data/andra\n",
      "525\n"
     ]
    },
    {
     "name": "stderr",
     "output_type": "stream",
     "text": [
      "/work/armitagj/miniconda3/envs/ai.calcimetry/lib/python3.10/site-packages/PIL/Image.py:3011: DecompressionBombWarning: Image size (151202150 pixels) exceeds limit of 89478485 pixels, could be decompression bomb DOS attack.\n",
      "  warnings.warn(\n"
     ]
    },
    {
     "name": "stdout",
     "output_type": "stream",
     "text": [
      "/data/andra\n"
     ]
    },
    {
     "name": "stderr",
     "output_type": "stream",
     "text": [
      "/work/armitagj/miniconda3/envs/ai.calcimetry/lib/python3.10/site-packages/PIL/Image.py:3011: DecompressionBombWarning: Image size (158155386 pixels) exceeds limit of 89478485 pixels, could be decompression bomb DOS attack.\n",
      "  warnings.warn(\n"
     ]
    },
    {
     "name": "stdout",
     "output_type": "stream",
     "text": [
      "526\n",
      "/data/andra\n"
     ]
    },
    {
     "name": "stderr",
     "output_type": "stream",
     "text": [
      "/work/armitagj/miniconda3/envs/ai.calcimetry/lib/python3.10/site-packages/PIL/Image.py:3011: DecompressionBombWarning: Image size (157118885 pixels) exceeds limit of 89478485 pixels, could be decompression bomb DOS attack.\n",
      "  warnings.warn(\n"
     ]
    },
    {
     "name": "stdout",
     "output_type": "stream",
     "text": [
      "527\n",
      "/data/andra\n",
      "528\n"
     ]
    },
    {
     "name": "stderr",
     "output_type": "stream",
     "text": [
      "/work/armitagj/miniconda3/envs/ai.calcimetry/lib/python3.10/site-packages/PIL/Image.py:3011: DecompressionBombWarning: Image size (156226750 pixels) exceeds limit of 89478485 pixels, could be decompression bomb DOS attack.\n",
      "  warnings.warn(\n"
     ]
    },
    {
     "name": "stdout",
     "output_type": "stream",
     "text": [
      "/data/andra\n",
      "529\n"
     ]
    },
    {
     "name": "stderr",
     "output_type": "stream",
     "text": [
      "/work/armitagj/miniconda3/envs/ai.calcimetry/lib/python3.10/site-packages/PIL/Image.py:3011: DecompressionBombWarning: Image size (164160000 pixels) exceeds limit of 89478485 pixels, could be decompression bomb DOS attack.\n",
      "  warnings.warn(\n"
     ]
    },
    {
     "name": "stdout",
     "output_type": "stream",
     "text": [
      "/data/andra\n"
     ]
    },
    {
     "name": "stderr",
     "output_type": "stream",
     "text": [
      "/work/armitagj/miniconda3/envs/ai.calcimetry/lib/python3.10/site-packages/PIL/Image.py:3011: DecompressionBombWarning: Image size (146694561 pixels) exceeds limit of 89478485 pixels, could be decompression bomb DOS attack.\n",
      "  warnings.warn(\n"
     ]
    },
    {
     "name": "stdout",
     "output_type": "stream",
     "text": [
      "530\n",
      "/data/andra\n",
      "531\n"
     ]
    },
    {
     "name": "stderr",
     "output_type": "stream",
     "text": [
      "/work/armitagj/miniconda3/envs/ai.calcimetry/lib/python3.10/site-packages/PIL/Image.py:3011: DecompressionBombWarning: Image size (122245600 pixels) exceeds limit of 89478485 pixels, could be decompression bomb DOS attack.\n",
      "  warnings.warn(\n"
     ]
    },
    {
     "name": "stdout",
     "output_type": "stream",
     "text": [
      "/data/andra\n"
     ]
    },
    {
     "name": "stderr",
     "output_type": "stream",
     "text": [
      "/work/armitagj/miniconda3/envs/ai.calcimetry/lib/python3.10/site-packages/PIL/Image.py:3011: DecompressionBombWarning: Image size (152215200 pixels) exceeds limit of 89478485 pixels, could be decompression bomb DOS attack.\n",
      "  warnings.warn(\n"
     ]
    },
    {
     "name": "stdout",
     "output_type": "stream",
     "text": [
      "532\n",
      "/data/andra\n"
     ]
    },
    {
     "name": "stderr",
     "output_type": "stream",
     "text": [
      "/work/armitagj/miniconda3/envs/ai.calcimetry/lib/python3.10/site-packages/PIL/Image.py:3011: DecompressionBombWarning: Image size (151878009 pixels) exceeds limit of 89478485 pixels, could be decompression bomb DOS attack.\n",
      "  warnings.warn(\n"
     ]
    },
    {
     "name": "stdout",
     "output_type": "stream",
     "text": [
      "533\n",
      "/data/andra\n",
      "534\n"
     ]
    },
    {
     "name": "stderr",
     "output_type": "stream",
     "text": [
      "/work/armitagj/miniconda3/envs/ai.calcimetry/lib/python3.10/site-packages/PIL/Image.py:3011: DecompressionBombWarning: Image size (159701298 pixels) exceeds limit of 89478485 pixels, could be decompression bomb DOS attack.\n",
      "  warnings.warn(\n"
     ]
    },
    {
     "name": "stdout",
     "output_type": "stream",
     "text": [
      "/data/andra\n",
      "535\n"
     ]
    },
    {
     "name": "stderr",
     "output_type": "stream",
     "text": [
      "/work/armitagj/miniconda3/envs/ai.calcimetry/lib/python3.10/site-packages/PIL/Image.py:3011: DecompressionBombWarning: Image size (160523068 pixels) exceeds limit of 89478485 pixels, could be decompression bomb DOS attack.\n",
      "  warnings.warn(\n"
     ]
    },
    {
     "name": "stdout",
     "output_type": "stream",
     "text": [
      "/data/andra\n",
      "536\n"
     ]
    },
    {
     "name": "stderr",
     "output_type": "stream",
     "text": [
      "/work/armitagj/miniconda3/envs/ai.calcimetry/lib/python3.10/site-packages/PIL/Image.py:3011: DecompressionBombWarning: Image size (163987200 pixels) exceeds limit of 89478485 pixels, could be decompression bomb DOS attack.\n",
      "  warnings.warn(\n"
     ]
    },
    {
     "name": "stdout",
     "output_type": "stream",
     "text": [
      "/data/andra\n",
      "537\n"
     ]
    },
    {
     "name": "stderr",
     "output_type": "stream",
     "text": [
      "/work/armitagj/miniconda3/envs/ai.calcimetry/lib/python3.10/site-packages/PIL/Image.py:3011: DecompressionBombWarning: Image size (159472800 pixels) exceeds limit of 89478485 pixels, could be decompression bomb DOS attack.\n",
      "  warnings.warn(\n"
     ]
    },
    {
     "name": "stdout",
     "output_type": "stream",
     "text": [
      "/data/andra\n"
     ]
    },
    {
     "name": "stderr",
     "output_type": "stream",
     "text": [
      "/work/armitagj/miniconda3/envs/ai.calcimetry/lib/python3.10/site-packages/PIL/Image.py:3011: DecompressionBombWarning: Image size (162799200 pixels) exceeds limit of 89478485 pixels, could be decompression bomb DOS attack.\n",
      "  warnings.warn(\n"
     ]
    },
    {
     "name": "stdout",
     "output_type": "stream",
     "text": [
      "538\n",
      "/data/andra\n",
      "539\n"
     ]
    },
    {
     "name": "stderr",
     "output_type": "stream",
     "text": [
      "/work/armitagj/miniconda3/envs/ai.calcimetry/lib/python3.10/site-packages/PIL/Image.py:3011: DecompressionBombWarning: Image size (156686400 pixels) exceeds limit of 89478485 pixels, could be decompression bomb DOS attack.\n",
      "  warnings.warn(\n"
     ]
    },
    {
     "name": "stdout",
     "output_type": "stream",
     "text": [
      "/data/andra\n",
      "540\n"
     ]
    },
    {
     "name": "stderr",
     "output_type": "stream",
     "text": [
      "/work/armitagj/miniconda3/envs/ai.calcimetry/lib/python3.10/site-packages/PIL/Image.py:3011: DecompressionBombWarning: Image size (127196564 pixels) exceeds limit of 89478485 pixels, could be decompression bomb DOS attack.\n",
      "  warnings.warn(\n"
     ]
    },
    {
     "name": "stdout",
     "output_type": "stream",
     "text": [
      "/data/andra\n",
      "541\n",
      "/data/andra\n",
      "542\n"
     ]
    },
    {
     "name": "stderr",
     "output_type": "stream",
     "text": [
      "/work/armitagj/miniconda3/envs/ai.calcimetry/lib/python3.10/site-packages/PIL/Image.py:3011: DecompressionBombWarning: Image size (103888800 pixels) exceeds limit of 89478485 pixels, could be decompression bomb DOS attack.\n",
      "  warnings.warn(\n"
     ]
    },
    {
     "name": "stdout",
     "output_type": "stream",
     "text": [
      "/data/andra\n",
      "543\n"
     ]
    },
    {
     "name": "stderr",
     "output_type": "stream",
     "text": [
      "/work/armitagj/miniconda3/envs/ai.calcimetry/lib/python3.10/site-packages/PIL/Image.py:3011: DecompressionBombWarning: Image size (149040000 pixels) exceeds limit of 89478485 pixels, could be decompression bomb DOS attack.\n",
      "  warnings.warn(\n"
     ]
    },
    {
     "name": "stdout",
     "output_type": "stream",
     "text": [
      "/data/andra\n",
      "544\n"
     ]
    },
    {
     "name": "stderr",
     "output_type": "stream",
     "text": [
      "/work/armitagj/miniconda3/envs/ai.calcimetry/lib/python3.10/site-packages/PIL/Image.py:3011: DecompressionBombWarning: Image size (152280000 pixels) exceeds limit of 89478485 pixels, could be decompression bomb DOS attack.\n",
      "  warnings.warn(\n"
     ]
    },
    {
     "name": "stdout",
     "output_type": "stream",
     "text": [
      "/data/andra\n",
      "545\n",
      "/data/andra\n",
      "546\n",
      "/data/andra\n",
      "547\n"
     ]
    },
    {
     "name": "stderr",
     "output_type": "stream",
     "text": [
      "/work/armitagj/miniconda3/envs/ai.calcimetry/lib/python3.10/site-packages/PIL/Image.py:3011: DecompressionBombWarning: Image size (153823725 pixels) exceeds limit of 89478485 pixels, could be decompression bomb DOS attack.\n",
      "  warnings.warn(\n"
     ]
    },
    {
     "name": "stdout",
     "output_type": "stream",
     "text": [
      "/data/andra\n",
      "548\n"
     ]
    },
    {
     "name": "stderr",
     "output_type": "stream",
     "text": [
      "/work/armitagj/miniconda3/envs/ai.calcimetry/lib/python3.10/site-packages/PIL/Image.py:3011: DecompressionBombWarning: Image size (153167850 pixels) exceeds limit of 89478485 pixels, could be decompression bomb DOS attack.\n",
      "  warnings.warn(\n"
     ]
    },
    {
     "name": "stdout",
     "output_type": "stream",
     "text": [
      "/data/andra\n"
     ]
    },
    {
     "name": "stderr",
     "output_type": "stream",
     "text": [
      "/work/armitagj/miniconda3/envs/ai.calcimetry/lib/python3.10/site-packages/PIL/Image.py:3011: DecompressionBombWarning: Image size (143362632 pixels) exceeds limit of 89478485 pixels, could be decompression bomb DOS attack.\n",
      "  warnings.warn(\n"
     ]
    },
    {
     "name": "stdout",
     "output_type": "stream",
     "text": [
      "549\n",
      "/data/andra\n",
      "550\n"
     ]
    },
    {
     "name": "stderr",
     "output_type": "stream",
     "text": [
      "/work/armitagj/miniconda3/envs/ai.calcimetry/lib/python3.10/site-packages/PIL/Image.py:3011: DecompressionBombWarning: Image size (115578200 pixels) exceeds limit of 89478485 pixels, could be decompression bomb DOS attack.\n",
      "  warnings.warn(\n"
     ]
    },
    {
     "name": "stdout",
     "output_type": "stream",
     "text": [
      "/data/andra\n"
     ]
    },
    {
     "name": "stderr",
     "output_type": "stream",
     "text": [
      "/work/armitagj/miniconda3/envs/ai.calcimetry/lib/python3.10/site-packages/PIL/Image.py:3011: DecompressionBombWarning: Image size (156279849 pixels) exceeds limit of 89478485 pixels, could be decompression bomb DOS attack.\n",
      "  warnings.warn(\n"
     ]
    },
    {
     "name": "stdout",
     "output_type": "stream",
     "text": [
      "551\n",
      "/data/andra\n",
      "552\n"
     ]
    },
    {
     "name": "stderr",
     "output_type": "stream",
     "text": [
      "/work/armitagj/miniconda3/envs/ai.calcimetry/lib/python3.10/site-packages/PIL/Image.py:3011: DecompressionBombWarning: Image size (159858484 pixels) exceeds limit of 89478485 pixels, could be decompression bomb DOS attack.\n",
      "  warnings.warn(\n"
     ]
    },
    {
     "name": "stdout",
     "output_type": "stream",
     "text": [
      "/data/andra\n",
      "553\n"
     ]
    },
    {
     "name": "stderr",
     "output_type": "stream",
     "text": [
      "/work/armitagj/miniconda3/envs/ai.calcimetry/lib/python3.10/site-packages/PIL/Image.py:3011: DecompressionBombWarning: Image size (126410625 pixels) exceeds limit of 89478485 pixels, could be decompression bomb DOS attack.\n",
      "  warnings.warn(\n"
     ]
    },
    {
     "name": "stdout",
     "output_type": "stream",
     "text": [
      "/data/andra\n",
      "554\n"
     ]
    },
    {
     "name": "stderr",
     "output_type": "stream",
     "text": [
      "/work/armitagj/miniconda3/envs/ai.calcimetry/lib/python3.10/site-packages/PIL/Image.py:3011: DecompressionBombWarning: Image size (138591600 pixels) exceeds limit of 89478485 pixels, could be decompression bomb DOS attack.\n",
      "  warnings.warn(\n"
     ]
    },
    {
     "name": "stdout",
     "output_type": "stream",
     "text": [
      "/data/andra\n",
      "555\n"
     ]
    },
    {
     "name": "stderr",
     "output_type": "stream",
     "text": [
      "/work/armitagj/miniconda3/envs/ai.calcimetry/lib/python3.10/site-packages/PIL/Image.py:3011: DecompressionBombWarning: Image size (108861632 pixels) exceeds limit of 89478485 pixels, could be decompression bomb DOS attack.\n",
      "  warnings.warn(\n"
     ]
    },
    {
     "name": "stdout",
     "output_type": "stream",
     "text": [
      "/data/andra\n",
      "556\n"
     ]
    },
    {
     "name": "stderr",
     "output_type": "stream",
     "text": [
      "/work/armitagj/miniconda3/envs/ai.calcimetry/lib/python3.10/site-packages/PIL/Image.py:3011: DecompressionBombWarning: Image size (126052900 pixels) exceeds limit of 89478485 pixels, could be decompression bomb DOS attack.\n",
      "  warnings.warn(\n"
     ]
    },
    {
     "name": "stdout",
     "output_type": "stream",
     "text": [
      "/data/andra\n",
      "557\n"
     ]
    },
    {
     "name": "stderr",
     "output_type": "stream",
     "text": [
      "/work/armitagj/miniconda3/envs/ai.calcimetry/lib/python3.10/site-packages/PIL/Image.py:3011: DecompressionBombWarning: Image size (159873066 pixels) exceeds limit of 89478485 pixels, could be decompression bomb DOS attack.\n",
      "  warnings.warn(\n"
     ]
    },
    {
     "name": "stdout",
     "output_type": "stream",
     "text": [
      "/data/andra\n",
      "558\n"
     ]
    },
    {
     "name": "stderr",
     "output_type": "stream",
     "text": [
      "/work/armitagj/miniconda3/envs/ai.calcimetry/lib/python3.10/site-packages/PIL/Image.py:3011: DecompressionBombWarning: Image size (156939300 pixels) exceeds limit of 89478485 pixels, could be decompression bomb DOS attack.\n",
      "  warnings.warn(\n"
     ]
    },
    {
     "name": "stdout",
     "output_type": "stream",
     "text": [
      "/data/andra\n",
      "559\n"
     ]
    },
    {
     "name": "stderr",
     "output_type": "stream",
     "text": [
      "/work/armitagj/miniconda3/envs/ai.calcimetry/lib/python3.10/site-packages/PIL/Image.py:3011: DecompressionBombWarning: Image size (158713632 pixels) exceeds limit of 89478485 pixels, could be decompression bomb DOS attack.\n",
      "  warnings.warn(\n"
     ]
    },
    {
     "name": "stdout",
     "output_type": "stream",
     "text": [
      "/data/andra\n",
      "560\n"
     ]
    },
    {
     "name": "stderr",
     "output_type": "stream",
     "text": [
      "/work/armitagj/miniconda3/envs/ai.calcimetry/lib/python3.10/site-packages/PIL/Image.py:3011: DecompressionBombWarning: Image size (155722750 pixels) exceeds limit of 89478485 pixels, could be decompression bomb DOS attack.\n",
      "  warnings.warn(\n"
     ]
    },
    {
     "name": "stdout",
     "output_type": "stream",
     "text": [
      "/data/andra\n",
      "561\n"
     ]
    },
    {
     "name": "stderr",
     "output_type": "stream",
     "text": [
      "/work/armitagj/miniconda3/envs/ai.calcimetry/lib/python3.10/site-packages/PIL/Image.py:3011: DecompressionBombWarning: Image size (140513432 pixels) exceeds limit of 89478485 pixels, could be decompression bomb DOS attack.\n",
      "  warnings.warn(\n"
     ]
    },
    {
     "name": "stdout",
     "output_type": "stream",
     "text": [
      "/data/andra\n",
      "562\n"
     ]
    },
    {
     "name": "stderr",
     "output_type": "stream",
     "text": [
      "/work/armitagj/miniconda3/envs/ai.calcimetry/lib/python3.10/site-packages/PIL/Image.py:3011: DecompressionBombWarning: Image size (116075025 pixels) exceeds limit of 89478485 pixels, could be decompression bomb DOS attack.\n",
      "  warnings.warn(\n"
     ]
    },
    {
     "name": "stdout",
     "output_type": "stream",
     "text": [
      "/data/andra\n",
      "563\n"
     ]
    },
    {
     "name": "stderr",
     "output_type": "stream",
     "text": [
      "/work/armitagj/miniconda3/envs/ai.calcimetry/lib/python3.10/site-packages/PIL/Image.py:3011: DecompressionBombWarning: Image size (101647592 pixels) exceeds limit of 89478485 pixels, could be decompression bomb DOS attack.\n",
      "  warnings.warn(\n"
     ]
    },
    {
     "name": "stdout",
     "output_type": "stream",
     "text": [
      "/data/andra\n"
     ]
    },
    {
     "name": "stderr",
     "output_type": "stream",
     "text": [
      "/work/armitagj/miniconda3/envs/ai.calcimetry/lib/python3.10/site-packages/PIL/Image.py:3011: DecompressionBombWarning: Image size (151992648 pixels) exceeds limit of 89478485 pixels, could be decompression bomb DOS attack.\n",
      "  warnings.warn(\n"
     ]
    },
    {
     "name": "stdout",
     "output_type": "stream",
     "text": [
      "564\n",
      "/data/andra\n"
     ]
    },
    {
     "name": "stderr",
     "output_type": "stream",
     "text": [
      "/work/armitagj/miniconda3/envs/ai.calcimetry/lib/python3.10/site-packages/PIL/Image.py:3011: DecompressionBombWarning: Image size (147237408 pixels) exceeds limit of 89478485 pixels, could be decompression bomb DOS attack.\n",
      "  warnings.warn(\n"
     ]
    },
    {
     "name": "stdout",
     "output_type": "stream",
     "text": [
      "565\n",
      "/data/andra\n"
     ]
    },
    {
     "name": "stderr",
     "output_type": "stream",
     "text": [
      "/work/armitagj/miniconda3/envs/ai.calcimetry/lib/python3.10/site-packages/PIL/Image.py:3011: DecompressionBombWarning: Image size (120050127 pixels) exceeds limit of 89478485 pixels, could be decompression bomb DOS attack.\n",
      "  warnings.warn(\n"
     ]
    },
    {
     "name": "stdout",
     "output_type": "stream",
     "text": [
      "566\n",
      "/data/andra\n",
      "567\n",
      "/data/andra\n",
      "568\n"
     ]
    },
    {
     "name": "stderr",
     "output_type": "stream",
     "text": [
      "/work/armitagj/miniconda3/envs/ai.calcimetry/lib/python3.10/site-packages/PIL/Image.py:3011: DecompressionBombWarning: Image size (156157518 pixels) exceeds limit of 89478485 pixels, could be decompression bomb DOS attack.\n",
      "  warnings.warn(\n"
     ]
    },
    {
     "name": "stdout",
     "output_type": "stream",
     "text": [
      "/data/andra\n",
      "569\n"
     ]
    },
    {
     "name": "stderr",
     "output_type": "stream",
     "text": [
      "/work/armitagj/miniconda3/envs/ai.calcimetry/lib/python3.10/site-packages/PIL/Image.py:3011: DecompressionBombWarning: Image size (155773611 pixels) exceeds limit of 89478485 pixels, could be decompression bomb DOS attack.\n",
      "  warnings.warn(\n"
     ]
    },
    {
     "name": "stdout",
     "output_type": "stream",
     "text": [
      "/data/andra\n"
     ]
    },
    {
     "name": "stderr",
     "output_type": "stream",
     "text": [
      "/work/armitagj/miniconda3/envs/ai.calcimetry/lib/python3.10/site-packages/PIL/Image.py:3011: DecompressionBombWarning: Image size (156906700 pixels) exceeds limit of 89478485 pixels, could be decompression bomb DOS attack.\n",
      "  warnings.warn(\n"
     ]
    },
    {
     "name": "stdout",
     "output_type": "stream",
     "text": [
      "570\n",
      "/data/andra\n"
     ]
    },
    {
     "name": "stderr",
     "output_type": "stream",
     "text": [
      "/work/armitagj/miniconda3/envs/ai.calcimetry/lib/python3.10/site-packages/PIL/Image.py:3011: DecompressionBombWarning: Image size (156380450 pixels) exceeds limit of 89478485 pixels, could be decompression bomb DOS attack.\n",
      "  warnings.warn(\n"
     ]
    },
    {
     "name": "stdout",
     "output_type": "stream",
     "text": [
      "571\n",
      "/data/andra\n",
      "572\n"
     ]
    },
    {
     "name": "stderr",
     "output_type": "stream",
     "text": [
      "/work/armitagj/miniconda3/envs/ai.calcimetry/lib/python3.10/site-packages/PIL/Image.py:3011: DecompressionBombWarning: Image size (123387468 pixels) exceeds limit of 89478485 pixels, could be decompression bomb DOS attack.\n",
      "  warnings.warn(\n"
     ]
    },
    {
     "name": "stdout",
     "output_type": "stream",
     "text": [
      "/data/andra\n"
     ]
    },
    {
     "name": "stderr",
     "output_type": "stream",
     "text": [
      "/work/armitagj/miniconda3/envs/ai.calcimetry/lib/python3.10/site-packages/PIL/Image.py:3011: DecompressionBombWarning: Image size (141641016 pixels) exceeds limit of 89478485 pixels, could be decompression bomb DOS attack.\n",
      "  warnings.warn(\n"
     ]
    },
    {
     "name": "stdout",
     "output_type": "stream",
     "text": [
      "573\n",
      "/data/andra\n",
      "574\n"
     ]
    },
    {
     "name": "stderr",
     "output_type": "stream",
     "text": [
      "/work/armitagj/miniconda3/envs/ai.calcimetry/lib/python3.10/site-packages/PIL/Image.py:3011: DecompressionBombWarning: Image size (151833650 pixels) exceeds limit of 89478485 pixels, could be decompression bomb DOS attack.\n",
      "  warnings.warn(\n"
     ]
    },
    {
     "name": "stdout",
     "output_type": "stream",
     "text": [
      "/data/andra\n",
      "575\n"
     ]
    },
    {
     "name": "stderr",
     "output_type": "stream",
     "text": [
      "/work/armitagj/miniconda3/envs/ai.calcimetry/lib/python3.10/site-packages/PIL/Image.py:3011: DecompressionBombWarning: Image size (111185214 pixels) exceeds limit of 89478485 pixels, could be decompression bomb DOS attack.\n",
      "  warnings.warn(\n"
     ]
    },
    {
     "name": "stdout",
     "output_type": "stream",
     "text": [
      "/data/andra\n",
      "576\n",
      "/data/andra\n",
      "577\n"
     ]
    },
    {
     "name": "stderr",
     "output_type": "stream",
     "text": [
      "/work/armitagj/miniconda3/envs/ai.calcimetry/lib/python3.10/site-packages/PIL/Image.py:3011: DecompressionBombWarning: Image size (128372382 pixels) exceeds limit of 89478485 pixels, could be decompression bomb DOS attack.\n",
      "  warnings.warn(\n"
     ]
    },
    {
     "name": "stdout",
     "output_type": "stream",
     "text": [
      "/data/andra\n",
      "578\n"
     ]
    },
    {
     "name": "stderr",
     "output_type": "stream",
     "text": [
      "/work/armitagj/miniconda3/envs/ai.calcimetry/lib/python3.10/site-packages/PIL/Image.py:3011: DecompressionBombWarning: Image size (108750600 pixels) exceeds limit of 89478485 pixels, could be decompression bomb DOS attack.\n",
      "  warnings.warn(\n"
     ]
    },
    {
     "name": "stdout",
     "output_type": "stream",
     "text": [
      "/data/andra\n",
      "579\n"
     ]
    },
    {
     "name": "stderr",
     "output_type": "stream",
     "text": [
      "/work/armitagj/miniconda3/envs/ai.calcimetry/lib/python3.10/site-packages/PIL/Image.py:3011: DecompressionBombWarning: Image size (117562648 pixels) exceeds limit of 89478485 pixels, could be decompression bomb DOS attack.\n",
      "  warnings.warn(\n"
     ]
    },
    {
     "name": "stdout",
     "output_type": "stream",
     "text": [
      "/data/andra\n",
      "580\n"
     ]
    },
    {
     "name": "stderr",
     "output_type": "stream",
     "text": [
      "/work/armitagj/miniconda3/envs/ai.calcimetry/lib/python3.10/site-packages/PIL/Image.py:3011: DecompressionBombWarning: Image size (92614779 pixels) exceeds limit of 89478485 pixels, could be decompression bomb DOS attack.\n",
      "  warnings.warn(\n"
     ]
    },
    {
     "name": "stdout",
     "output_type": "stream",
     "text": [
      "/data/andra\n",
      "581\n"
     ]
    },
    {
     "name": "stderr",
     "output_type": "stream",
     "text": [
      "/work/armitagj/miniconda3/envs/ai.calcimetry/lib/python3.10/site-packages/PIL/Image.py:3011: DecompressionBombWarning: Image size (106456350 pixels) exceeds limit of 89478485 pixels, could be decompression bomb DOS attack.\n",
      "  warnings.warn(\n"
     ]
    },
    {
     "name": "stdout",
     "output_type": "stream",
     "text": [
      "/data/andra\n",
      "582\n",
      "/data/andra\n",
      "583\n",
      "/data/andra\n",
      "584\n",
      "/data/andra\n"
     ]
    },
    {
     "name": "stderr",
     "output_type": "stream",
     "text": [
      "/work/armitagj/miniconda3/envs/ai.calcimetry/lib/python3.10/site-packages/PIL/Image.py:3011: DecompressionBombWarning: Image size (90615516 pixels) exceeds limit of 89478485 pixels, could be decompression bomb DOS attack.\n",
      "  warnings.warn(\n"
     ]
    },
    {
     "name": "stdout",
     "output_type": "stream",
     "text": [
      "585\n",
      "/data/andra\n",
      "586\n",
      "/data/andra\n",
      "587\n"
     ]
    },
    {
     "name": "stderr",
     "output_type": "stream",
     "text": [
      "/work/armitagj/miniconda3/envs/ai.calcimetry/lib/python3.10/site-packages/PIL/Image.py:3011: DecompressionBombWarning: Image size (104587200 pixels) exceeds limit of 89478485 pixels, could be decompression bomb DOS attack.\n",
      "  warnings.warn(\n"
     ]
    },
    {
     "name": "stdout",
     "output_type": "stream",
     "text": [
      "/data/andra\n",
      "588\n",
      "/data/andra\n",
      "589\n"
     ]
    },
    {
     "name": "stderr",
     "output_type": "stream",
     "text": [
      "/work/armitagj/miniconda3/envs/ai.calcimetry/lib/python3.10/site-packages/PIL/Image.py:3011: DecompressionBombWarning: Image size (161565000 pixels) exceeds limit of 89478485 pixels, could be decompression bomb DOS attack.\n",
      "  warnings.warn(\n"
     ]
    },
    {
     "name": "stdout",
     "output_type": "stream",
     "text": [
      "/data/andra\n"
     ]
    },
    {
     "name": "stderr",
     "output_type": "stream",
     "text": [
      "/work/armitagj/miniconda3/envs/ai.calcimetry/lib/python3.10/site-packages/PIL/Image.py:3011: DecompressionBombWarning: Image size (165576532 pixels) exceeds limit of 89478485 pixels, could be decompression bomb DOS attack.\n",
      "  warnings.warn(\n"
     ]
    },
    {
     "name": "stdout",
     "output_type": "stream",
     "text": [
      "590\n",
      "/data/andra\n",
      "591\n"
     ]
    },
    {
     "name": "stderr",
     "output_type": "stream",
     "text": [
      "/work/armitagj/miniconda3/envs/ai.calcimetry/lib/python3.10/site-packages/PIL/Image.py:3011: DecompressionBombWarning: Image size (169560000 pixels) exceeds limit of 89478485 pixels, could be decompression bomb DOS attack.\n",
      "  warnings.warn(\n"
     ]
    },
    {
     "name": "stdout",
     "output_type": "stream",
     "text": [
      "/data/andra\n",
      "592\n",
      "/data/andra\n"
     ]
    },
    {
     "name": "stderr",
     "output_type": "stream",
     "text": [
      "/work/armitagj/miniconda3/envs/ai.calcimetry/lib/python3.10/site-packages/PIL/Image.py:3011: DecompressionBombWarning: Image size (103251584 pixels) exceeds limit of 89478485 pixels, could be decompression bomb DOS attack.\n",
      "  warnings.warn(\n"
     ]
    },
    {
     "name": "stdout",
     "output_type": "stream",
     "text": [
      "593\n",
      "/data/andra\n",
      "594\n"
     ]
    },
    {
     "name": "stderr",
     "output_type": "stream",
     "text": [
      "/work/armitagj/miniconda3/envs/ai.calcimetry/lib/python3.10/site-packages/PIL/Image.py:3011: DecompressionBombWarning: Image size (178358251 pixels) exceeds limit of 89478485 pixels, could be decompression bomb DOS attack.\n",
      "  warnings.warn(\n"
     ]
    },
    {
     "name": "stdout",
     "output_type": "stream",
     "text": [
      "/data/andra\n",
      "595\n"
     ]
    },
    {
     "name": "stderr",
     "output_type": "stream",
     "text": [
      "/work/armitagj/miniconda3/envs/ai.calcimetry/lib/python3.10/site-packages/PIL/Image.py:3011: DecompressionBombWarning: Image size (162790648 pixels) exceeds limit of 89478485 pixels, could be decompression bomb DOS attack.\n",
      "  warnings.warn(\n"
     ]
    },
    {
     "name": "stdout",
     "output_type": "stream",
     "text": [
      "/data/andra\n",
      "596\n"
     ]
    },
    {
     "name": "stderr",
     "output_type": "stream",
     "text": [
      "/work/armitagj/miniconda3/envs/ai.calcimetry/lib/python3.10/site-packages/PIL/Image.py:3011: DecompressionBombWarning: Image size (165607200 pixels) exceeds limit of 89478485 pixels, could be decompression bomb DOS attack.\n",
      "  warnings.warn(\n"
     ]
    },
    {
     "name": "stdout",
     "output_type": "stream",
     "text": [
      "/data/andra\n",
      "597\n"
     ]
    },
    {
     "name": "stderr",
     "output_type": "stream",
     "text": [
      "/work/armitagj/miniconda3/envs/ai.calcimetry/lib/python3.10/site-packages/PIL/Image.py:3011: DecompressionBombWarning: Image size (165326400 pixels) exceeds limit of 89478485 pixels, could be decompression bomb DOS attack.\n",
      "  warnings.warn(\n"
     ]
    },
    {
     "name": "stdout",
     "output_type": "stream",
     "text": [
      "/data/andra\n",
      "598\n",
      "/data/andra\n",
      "599\n",
      "/data/andra\n"
     ]
    },
    {
     "name": "stderr",
     "output_type": "stream",
     "text": [
      "/work/armitagj/miniconda3/envs/ai.calcimetry/lib/python3.10/site-packages/PIL/Image.py:3011: DecompressionBombWarning: Image size (156583800 pixels) exceeds limit of 89478485 pixels, could be decompression bomb DOS attack.\n",
      "  warnings.warn(\n"
     ]
    },
    {
     "name": "stdout",
     "output_type": "stream",
     "text": [
      "600\n",
      "/data/andra\n"
     ]
    },
    {
     "name": "stderr",
     "output_type": "stream",
     "text": [
      "/work/armitagj/miniconda3/envs/ai.calcimetry/lib/python3.10/site-packages/PIL/Image.py:3011: DecompressionBombWarning: Image size (160500000 pixels) exceeds limit of 89478485 pixels, could be decompression bomb DOS attack.\n",
      "  warnings.warn(\n"
     ]
    },
    {
     "name": "stdout",
     "output_type": "stream",
     "text": [
      "601\n",
      "/data/andra\n"
     ]
    },
    {
     "name": "stderr",
     "output_type": "stream",
     "text": [
      "/work/armitagj/miniconda3/envs/ai.calcimetry/lib/python3.10/site-packages/PIL/Image.py:3011: DecompressionBombWarning: Image size (159879400 pixels) exceeds limit of 89478485 pixels, could be decompression bomb DOS attack.\n",
      "  warnings.warn(\n"
     ]
    },
    {
     "name": "stdout",
     "output_type": "stream",
     "text": [
      "602\n",
      "/data/andra\n",
      "603\n",
      "/data/andra\n"
     ]
    },
    {
     "name": "stderr",
     "output_type": "stream",
     "text": [
      "/work/armitagj/miniconda3/envs/ai.calcimetry/lib/python3.10/site-packages/PIL/Image.py:3011: DecompressionBombWarning: Image size (126653254 pixels) exceeds limit of 89478485 pixels, could be decompression bomb DOS attack.\n",
      "  warnings.warn(\n"
     ]
    },
    {
     "name": "stdout",
     "output_type": "stream",
     "text": [
      "604\n",
      "/data/andra\n"
     ]
    },
    {
     "name": "stderr",
     "output_type": "stream",
     "text": [
      "/work/armitagj/miniconda3/envs/ai.calcimetry/lib/python3.10/site-packages/PIL/Image.py:3011: DecompressionBombWarning: Image size (161373600 pixels) exceeds limit of 89478485 pixels, could be decompression bomb DOS attack.\n",
      "  warnings.warn(\n"
     ]
    },
    {
     "name": "stdout",
     "output_type": "stream",
     "text": [
      "605\n",
      "/data/andra\n",
      "606\n"
     ]
    },
    {
     "name": "stderr",
     "output_type": "stream",
     "text": [
      "/work/armitagj/miniconda3/envs/ai.calcimetry/lib/python3.10/site-packages/PIL/Image.py:3011: DecompressionBombWarning: Image size (164245000 pixels) exceeds limit of 89478485 pixels, could be decompression bomb DOS attack.\n",
      "  warnings.warn(\n"
     ]
    },
    {
     "name": "stdout",
     "output_type": "stream",
     "text": [
      "/data/andra\n"
     ]
    },
    {
     "name": "stderr",
     "output_type": "stream",
     "text": [
      "/work/armitagj/miniconda3/envs/ai.calcimetry/lib/python3.10/site-packages/PIL/Image.py:3011: DecompressionBombWarning: Image size (168760800 pixels) exceeds limit of 89478485 pixels, could be decompression bomb DOS attack.\n",
      "  warnings.warn(\n"
     ]
    },
    {
     "name": "stdout",
     "output_type": "stream",
     "text": [
      "607\n",
      "/data/andra\n"
     ]
    },
    {
     "name": "stderr",
     "output_type": "stream",
     "text": [
      "/work/armitagj/miniconda3/envs/ai.calcimetry/lib/python3.10/site-packages/PIL/Image.py:3011: DecompressionBombWarning: Image size (141381504 pixels) exceeds limit of 89478485 pixels, could be decompression bomb DOS attack.\n",
      "  warnings.warn(\n"
     ]
    },
    {
     "name": "stdout",
     "output_type": "stream",
     "text": [
      "608\n",
      "/data/andra\n"
     ]
    },
    {
     "name": "stderr",
     "output_type": "stream",
     "text": [
      "/work/armitagj/miniconda3/envs/ai.calcimetry/lib/python3.10/site-packages/PIL/Image.py:3011: DecompressionBombWarning: Image size (137051032 pixels) exceeds limit of 89478485 pixels, could be decompression bomb DOS attack.\n",
      "  warnings.warn(\n"
     ]
    },
    {
     "name": "stdout",
     "output_type": "stream",
     "text": [
      "609\n",
      "/data/andra\n"
     ]
    },
    {
     "name": "stderr",
     "output_type": "stream",
     "text": [
      "/work/armitagj/miniconda3/envs/ai.calcimetry/lib/python3.10/site-packages/PIL/Image.py:3011: DecompressionBombWarning: Image size (156230718 pixels) exceeds limit of 89478485 pixels, could be decompression bomb DOS attack.\n",
      "  warnings.warn(\n"
     ]
    },
    {
     "name": "stdout",
     "output_type": "stream",
     "text": [
      "610\n",
      "/data/andra\n",
      "611\n",
      "/data/andra\n"
     ]
    },
    {
     "name": "stderr",
     "output_type": "stream",
     "text": [
      "/work/armitagj/miniconda3/envs/ai.calcimetry/lib/python3.10/site-packages/PIL/Image.py:3011: DecompressionBombWarning: Image size (159667200 pixels) exceeds limit of 89478485 pixels, could be decompression bomb DOS attack.\n",
      "  warnings.warn(\n"
     ]
    },
    {
     "name": "stdout",
     "output_type": "stream",
     "text": [
      "612\n",
      "/data/andra\n",
      "613\n",
      "/data/andra\n",
      "614\n",
      "/data/andra\n"
     ]
    },
    {
     "name": "stderr",
     "output_type": "stream",
     "text": [
      "/work/armitagj/miniconda3/envs/ai.calcimetry/lib/python3.10/site-packages/PIL/Image.py:3011: DecompressionBombWarning: Image size (109685814 pixels) exceeds limit of 89478485 pixels, could be decompression bomb DOS attack.\n",
      "  warnings.warn(\n"
     ]
    },
    {
     "name": "stdout",
     "output_type": "stream",
     "text": [
      "615\n",
      "/data/andra\n"
     ]
    },
    {
     "name": "stderr",
     "output_type": "stream",
     "text": [
      "/work/armitagj/miniconda3/envs/ai.calcimetry/lib/python3.10/site-packages/PIL/Image.py:3011: DecompressionBombWarning: Image size (130035936 pixels) exceeds limit of 89478485 pixels, could be decompression bomb DOS attack.\n",
      "  warnings.warn(\n"
     ]
    },
    {
     "name": "stdout",
     "output_type": "stream",
     "text": [
      "616\n",
      "/data/andra\n"
     ]
    },
    {
     "name": "stderr",
     "output_type": "stream",
     "text": [
      "/work/armitagj/miniconda3/envs/ai.calcimetry/lib/python3.10/site-packages/PIL/Image.py:3011: DecompressionBombWarning: Image size (163486584 pixels) exceeds limit of 89478485 pixels, could be decompression bomb DOS attack.\n",
      "  warnings.warn(\n"
     ]
    },
    {
     "name": "stdout",
     "output_type": "stream",
     "text": [
      "617\n",
      "/data/andra\n"
     ]
    },
    {
     "name": "stderr",
     "output_type": "stream",
     "text": [
      "/work/armitagj/miniconda3/envs/ai.calcimetry/lib/python3.10/site-packages/PIL/Image.py:3011: DecompressionBombWarning: Image size (157185468 pixels) exceeds limit of 89478485 pixels, could be decompression bomb DOS attack.\n",
      "  warnings.warn(\n"
     ]
    },
    {
     "name": "stdout",
     "output_type": "stream",
     "text": [
      "618\n",
      "/data/andra\n",
      "619\n"
     ]
    },
    {
     "name": "stderr",
     "output_type": "stream",
     "text": [
      "/work/armitagj/miniconda3/envs/ai.calcimetry/lib/python3.10/site-packages/PIL/Image.py:3011: DecompressionBombWarning: Image size (132907698 pixels) exceeds limit of 89478485 pixels, could be decompression bomb DOS attack.\n",
      "  warnings.warn(\n"
     ]
    },
    {
     "name": "stdout",
     "output_type": "stream",
     "text": [
      "/data/andra\n",
      "620\n"
     ]
    },
    {
     "name": "stderr",
     "output_type": "stream",
     "text": [
      "/work/armitagj/miniconda3/envs/ai.calcimetry/lib/python3.10/site-packages/PIL/Image.py:3011: DecompressionBombWarning: Image size (130549536 pixels) exceeds limit of 89478485 pixels, could be decompression bomb DOS attack.\n",
      "  warnings.warn(\n"
     ]
    },
    {
     "name": "stdout",
     "output_type": "stream",
     "text": [
      "/data/andra\n"
     ]
    },
    {
     "name": "stderr",
     "output_type": "stream",
     "text": [
      "/work/armitagj/miniconda3/envs/ai.calcimetry/lib/python3.10/site-packages/PIL/Image.py:3011: DecompressionBombWarning: Image size (136373414 pixels) exceeds limit of 89478485 pixels, could be decompression bomb DOS attack.\n",
      "  warnings.warn(\n"
     ]
    },
    {
     "name": "stdout",
     "output_type": "stream",
     "text": [
      "621\n",
      "/data/andra\n",
      "622\n"
     ]
    },
    {
     "name": "stderr",
     "output_type": "stream",
     "text": [
      "/work/armitagj/miniconda3/envs/ai.calcimetry/lib/python3.10/site-packages/PIL/Image.py:3011: DecompressionBombWarning: Image size (165157350 pixels) exceeds limit of 89478485 pixels, could be decompression bomb DOS attack.\n",
      "  warnings.warn(\n"
     ]
    },
    {
     "name": "stdout",
     "output_type": "stream",
     "text": [
      "/data/andra\n",
      "623\n",
      "/data/andra\n"
     ]
    },
    {
     "name": "stderr",
     "output_type": "stream",
     "text": [
      "/work/armitagj/miniconda3/envs/ai.calcimetry/lib/python3.10/site-packages/PIL/Image.py:3011: DecompressionBombWarning: Image size (127194784 pixels) exceeds limit of 89478485 pixels, could be decompression bomb DOS attack.\n",
      "  warnings.warn(\n"
     ]
    },
    {
     "name": "stdout",
     "output_type": "stream",
     "text": [
      "624\n",
      "/data/andra\n",
      "625\n",
      "/data/andra\n",
      "626\n",
      "/data/andra\n",
      "627\n"
     ]
    },
    {
     "name": "stderr",
     "output_type": "stream",
     "text": [
      "/work/armitagj/miniconda3/envs/ai.calcimetry/lib/python3.10/site-packages/PIL/Image.py:3011: DecompressionBombWarning: Image size (158553482 pixels) exceeds limit of 89478485 pixels, could be decompression bomb DOS attack.\n",
      "  warnings.warn(\n"
     ]
    },
    {
     "name": "stdout",
     "output_type": "stream",
     "text": [
      "/data/andra\n",
      "628\n"
     ]
    },
    {
     "name": "stderr",
     "output_type": "stream",
     "text": [
      "/work/armitagj/miniconda3/envs/ai.calcimetry/lib/python3.10/site-packages/PIL/Image.py:3011: DecompressionBombWarning: Image size (147012357 pixels) exceeds limit of 89478485 pixels, could be decompression bomb DOS attack.\n",
      "  warnings.warn(\n"
     ]
    },
    {
     "name": "stdout",
     "output_type": "stream",
     "text": [
      "/data/andra\n"
     ]
    },
    {
     "name": "stderr",
     "output_type": "stream",
     "text": [
      "/work/armitagj/miniconda3/envs/ai.calcimetry/lib/python3.10/site-packages/PIL/Image.py:3011: DecompressionBombWarning: Image size (103578750 pixels) exceeds limit of 89478485 pixels, could be decompression bomb DOS attack.\n",
      "  warnings.warn(\n"
     ]
    },
    {
     "name": "stdout",
     "output_type": "stream",
     "text": [
      "629\n",
      "/data/andra\n",
      "630\n",
      "/data/andra\n"
     ]
    },
    {
     "name": "stderr",
     "output_type": "stream",
     "text": [
      "/work/armitagj/miniconda3/envs/ai.calcimetry/lib/python3.10/site-packages/PIL/Image.py:3011: DecompressionBombWarning: Image size (159787182 pixels) exceeds limit of 89478485 pixels, could be decompression bomb DOS attack.\n",
      "  warnings.warn(\n"
     ]
    },
    {
     "name": "stdout",
     "output_type": "stream",
     "text": [
      "631\n",
      "/data/andra\n",
      "632\n",
      "/data/andra\n",
      "633\n",
      "/data/andra\n"
     ]
    },
    {
     "name": "stderr",
     "output_type": "stream",
     "text": [
      "/work/armitagj/miniconda3/envs/ai.calcimetry/lib/python3.10/site-packages/PIL/Image.py:3011: DecompressionBombWarning: Image size (168935273 pixels) exceeds limit of 89478485 pixels, could be decompression bomb DOS attack.\n",
      "  warnings.warn(\n"
     ]
    },
    {
     "name": "stdout",
     "output_type": "stream",
     "text": [
      "634\n",
      "/data/andra\n"
     ]
    },
    {
     "name": "stderr",
     "output_type": "stream",
     "text": [
      "/work/armitagj/miniconda3/envs/ai.calcimetry/lib/python3.10/site-packages/PIL/Image.py:3011: DecompressionBombWarning: Image size (166047948 pixels) exceeds limit of 89478485 pixels, could be decompression bomb DOS attack.\n",
      "  warnings.warn(\n"
     ]
    },
    {
     "name": "stdout",
     "output_type": "stream",
     "text": [
      "635\n",
      "/data/andra\n"
     ]
    },
    {
     "name": "stderr",
     "output_type": "stream",
     "text": [
      "/work/armitagj/miniconda3/envs/ai.calcimetry/lib/python3.10/site-packages/PIL/Image.py:3011: DecompressionBombWarning: Image size (157075927 pixels) exceeds limit of 89478485 pixels, could be decompression bomb DOS attack.\n",
      "  warnings.warn(\n"
     ]
    },
    {
     "name": "stdout",
     "output_type": "stream",
     "text": [
      "636\n",
      "/data/andra\n",
      "637\n",
      "/data/andra\n"
     ]
    },
    {
     "name": "stderr",
     "output_type": "stream",
     "text": [
      "/work/armitagj/miniconda3/envs/ai.calcimetry/lib/python3.10/site-packages/PIL/Image.py:3011: DecompressionBombWarning: Image size (124596132 pixels) exceeds limit of 89478485 pixels, could be decompression bomb DOS attack.\n",
      "  warnings.warn(\n"
     ]
    },
    {
     "name": "stdout",
     "output_type": "stream",
     "text": [
      "638\n",
      "/data/andra\n",
      "639\n",
      "/data/andra\n",
      "640\n",
      "/data/andra\n",
      "641\n",
      "/data/andra\n"
     ]
    },
    {
     "name": "stderr",
     "output_type": "stream",
     "text": [
      "/work/armitagj/miniconda3/envs/ai.calcimetry/lib/python3.10/site-packages/PIL/Image.py:3011: DecompressionBombWarning: Image size (112495032 pixels) exceeds limit of 89478485 pixels, could be decompression bomb DOS attack.\n",
      "  warnings.warn(\n"
     ]
    },
    {
     "name": "stdout",
     "output_type": "stream",
     "text": [
      "642\n",
      "/data/andra\n",
      "643\n",
      "/data/andra\n",
      "644\n"
     ]
    },
    {
     "name": "stderr",
     "output_type": "stream",
     "text": [
      "/work/armitagj/miniconda3/envs/ai.calcimetry/lib/python3.10/site-packages/PIL/Image.py:3011: DecompressionBombWarning: Image size (159980904 pixels) exceeds limit of 89478485 pixels, could be decompression bomb DOS attack.\n",
      "  warnings.warn(\n"
     ]
    },
    {
     "name": "stdout",
     "output_type": "stream",
     "text": [
      "/data/andra\n",
      "645\n",
      "/data/andra\n",
      "646\n",
      "/data/andra\n",
      "647\n",
      "/data/andra\n",
      "648\n",
      "/data/andra\n",
      "649\n",
      "/data/andra\n",
      "650\n",
      "/data/andra\n",
      "651\n"
     ]
    },
    {
     "name": "stderr",
     "output_type": "stream",
     "text": [
      "/work/armitagj/miniconda3/envs/ai.calcimetry/lib/python3.10/site-packages/PIL/Image.py:3011: DecompressionBombWarning: Image size (170249072 pixels) exceeds limit of 89478485 pixels, could be decompression bomb DOS attack.\n",
      "  warnings.warn(\n"
     ]
    },
    {
     "name": "stdout",
     "output_type": "stream",
     "text": [
      "/data/andra\n",
      "652\n",
      "/data/andra\n",
      "653\n",
      "/data/andra\n",
      "654\n",
      "/data/andra\n"
     ]
    },
    {
     "name": "stderr",
     "output_type": "stream",
     "text": [
      "/work/armitagj/miniconda3/envs/ai.calcimetry/lib/python3.10/site-packages/PIL/Image.py:3011: DecompressionBombWarning: Image size (105298240 pixels) exceeds limit of 89478485 pixels, could be decompression bomb DOS attack.\n",
      "  warnings.warn(\n"
     ]
    },
    {
     "name": "stdout",
     "output_type": "stream",
     "text": [
      "655\n",
      "/data/andra\n",
      "656\n"
     ]
    },
    {
     "name": "stderr",
     "output_type": "stream",
     "text": [
      "/work/armitagj/miniconda3/envs/ai.calcimetry/lib/python3.10/site-packages/PIL/Image.py:3011: DecompressionBombWarning: Image size (119789176 pixels) exceeds limit of 89478485 pixels, could be decompression bomb DOS attack.\n",
      "  warnings.warn(\n"
     ]
    },
    {
     "name": "stdout",
     "output_type": "stream",
     "text": [
      "/data/andra\n",
      "657\n"
     ]
    },
    {
     "name": "stderr",
     "output_type": "stream",
     "text": [
      "/work/armitagj/miniconda3/envs/ai.calcimetry/lib/python3.10/site-packages/PIL/Image.py:3011: DecompressionBombWarning: Image size (150448179 pixels) exceeds limit of 89478485 pixels, could be decompression bomb DOS attack.\n",
      "  warnings.warn(\n"
     ]
    },
    {
     "name": "stdout",
     "output_type": "stream",
     "text": [
      "/data/andra\n"
     ]
    },
    {
     "name": "stderr",
     "output_type": "stream",
     "text": [
      "/work/armitagj/miniconda3/envs/ai.calcimetry/lib/python3.10/site-packages/PIL/Image.py:3011: DecompressionBombWarning: Image size (164167266 pixels) exceeds limit of 89478485 pixels, could be decompression bomb DOS attack.\n",
      "  warnings.warn(\n"
     ]
    },
    {
     "name": "stdout",
     "output_type": "stream",
     "text": [
      "658\n",
      "/data/andra\n"
     ]
    },
    {
     "name": "stderr",
     "output_type": "stream",
     "text": [
      "/work/armitagj/miniconda3/envs/ai.calcimetry/lib/python3.10/site-packages/PIL/Image.py:3011: DecompressionBombWarning: Image size (163360800 pixels) exceeds limit of 89478485 pixels, could be decompression bomb DOS attack.\n",
      "  warnings.warn(\n"
     ]
    },
    {
     "name": "stdout",
     "output_type": "stream",
     "text": [
      "659\n",
      "/data/andra\n"
     ]
    },
    {
     "name": "stderr",
     "output_type": "stream",
     "text": [
      "/work/armitagj/miniconda3/envs/ai.calcimetry/lib/python3.10/site-packages/PIL/Image.py:3011: DecompressionBombWarning: Image size (130538375 pixels) exceeds limit of 89478485 pixels, could be decompression bomb DOS attack.\n",
      "  warnings.warn(\n"
     ]
    },
    {
     "name": "stdout",
     "output_type": "stream",
     "text": [
      "660\n",
      "/data/andra\n",
      "661\n",
      "/data/andra\n",
      "662\n",
      "/data/andra\n",
      "663\n"
     ]
    },
    {
     "name": "stderr",
     "output_type": "stream",
     "text": [
      "/work/armitagj/miniconda3/envs/ai.calcimetry/lib/python3.10/site-packages/PIL/Image.py:3011: DecompressionBombWarning: Image size (164700000 pixels) exceeds limit of 89478485 pixels, could be decompression bomb DOS attack.\n",
      "  warnings.warn(\n"
     ]
    },
    {
     "name": "stdout",
     "output_type": "stream",
     "text": [
      "/data/andra\n",
      "664\n",
      "/data/andra\n",
      "665\n",
      "/data/andra\n",
      "666\n",
      "/data/andra\n",
      "667\n",
      "/data/andra\n",
      "668\n"
     ]
    },
    {
     "name": "stderr",
     "output_type": "stream",
     "text": [
      "/work/armitagj/miniconda3/envs/ai.calcimetry/lib/python3.10/site-packages/PIL/Image.py:3011: DecompressionBombWarning: Image size (166492800 pixels) exceeds limit of 89478485 pixels, could be decompression bomb DOS attack.\n",
      "  warnings.warn(\n"
     ]
    },
    {
     "name": "stdout",
     "output_type": "stream",
     "text": [
      "/data/andra\n",
      "669\n",
      "/data/andra\n",
      "670\n"
     ]
    },
    {
     "name": "stderr",
     "output_type": "stream",
     "text": [
      "/work/armitagj/miniconda3/envs/ai.calcimetry/lib/python3.10/site-packages/PIL/Image.py:3011: DecompressionBombWarning: Image size (137913118 pixels) exceeds limit of 89478485 pixels, could be decompression bomb DOS attack.\n",
      "  warnings.warn(\n"
     ]
    },
    {
     "name": "stdout",
     "output_type": "stream",
     "text": [
      "/data/andra\n",
      "671\n"
     ]
    },
    {
     "name": "stderr",
     "output_type": "stream",
     "text": [
      "/work/armitagj/miniconda3/envs/ai.calcimetry/lib/python3.10/site-packages/PIL/Image.py:3011: DecompressionBombWarning: Image size (132520600 pixels) exceeds limit of 89478485 pixels, could be decompression bomb DOS attack.\n",
      "  warnings.warn(\n"
     ]
    },
    {
     "name": "stdout",
     "output_type": "stream",
     "text": [
      "/data/andra\n",
      "672\n"
     ]
    },
    {
     "name": "stderr",
     "output_type": "stream",
     "text": [
      "/work/armitagj/miniconda3/envs/ai.calcimetry/lib/python3.10/site-packages/PIL/Image.py:3011: DecompressionBombWarning: Image size (141939171 pixels) exceeds limit of 89478485 pixels, could be decompression bomb DOS attack.\n",
      "  warnings.warn(\n"
     ]
    },
    {
     "name": "stdout",
     "output_type": "stream",
     "text": [
      "/data/andra\n",
      "673\n"
     ]
    },
    {
     "name": "stderr",
     "output_type": "stream",
     "text": [
      "/work/armitagj/miniconda3/envs/ai.calcimetry/lib/python3.10/site-packages/PIL/Image.py:3011: DecompressionBombWarning: Image size (140859675 pixels) exceeds limit of 89478485 pixels, could be decompression bomb DOS attack.\n",
      "  warnings.warn(\n"
     ]
    },
    {
     "name": "stdout",
     "output_type": "stream",
     "text": [
      "/data/andra\n",
      "674\n",
      "/data/andra\n",
      "675\n",
      "/data/andra\n",
      "676\n"
     ]
    },
    {
     "name": "stderr",
     "output_type": "stream",
     "text": [
      "/work/armitagj/miniconda3/envs/ai.calcimetry/lib/python3.10/site-packages/PIL/Image.py:3011: DecompressionBombWarning: Image size (113727732 pixels) exceeds limit of 89478485 pixels, could be decompression bomb DOS attack.\n",
      "  warnings.warn(\n"
     ]
    },
    {
     "name": "stdout",
     "output_type": "stream",
     "text": [
      "/data/andra\n",
      "677\n",
      "/data/andra\n",
      "678\n",
      "/data/andra\n",
      "679\n"
     ]
    },
    {
     "name": "stderr",
     "output_type": "stream",
     "text": [
      "/work/armitagj/miniconda3/envs/ai.calcimetry/lib/python3.10/site-packages/PIL/Image.py:3011: DecompressionBombWarning: Image size (146268261 pixels) exceeds limit of 89478485 pixels, could be decompression bomb DOS attack.\n",
      "  warnings.warn(\n"
     ]
    },
    {
     "name": "stdout",
     "output_type": "stream",
     "text": [
      "/data/andra\n",
      "680\n"
     ]
    },
    {
     "name": "stderr",
     "output_type": "stream",
     "text": [
      "/work/armitagj/miniconda3/envs/ai.calcimetry/lib/python3.10/site-packages/PIL/Image.py:3011: DecompressionBombWarning: Image size (158552016 pixels) exceeds limit of 89478485 pixels, could be decompression bomb DOS attack.\n",
      "  warnings.warn(\n"
     ]
    },
    {
     "name": "stdout",
     "output_type": "stream",
     "text": [
      "/data/andra\n"
     ]
    },
    {
     "name": "stderr",
     "output_type": "stream",
     "text": [
      "/work/armitagj/miniconda3/envs/ai.calcimetry/lib/python3.10/site-packages/PIL/Image.py:3011: DecompressionBombWarning: Image size (114833932 pixels) exceeds limit of 89478485 pixels, could be decompression bomb DOS attack.\n",
      "  warnings.warn(\n"
     ]
    },
    {
     "name": "stdout",
     "output_type": "stream",
     "text": [
      "681\n",
      "/data/andra\n"
     ]
    },
    {
     "name": "stderr",
     "output_type": "stream",
     "text": [
      "/work/armitagj/miniconda3/envs/ai.calcimetry/lib/python3.10/site-packages/PIL/Image.py:3011: DecompressionBombWarning: Image size (134997132 pixels) exceeds limit of 89478485 pixels, could be decompression bomb DOS attack.\n",
      "  warnings.warn(\n"
     ]
    },
    {
     "name": "stdout",
     "output_type": "stream",
     "text": [
      "682\n",
      "/data/andra\n",
      "683\n"
     ]
    },
    {
     "name": "stderr",
     "output_type": "stream",
     "text": [
      "/work/armitagj/miniconda3/envs/ai.calcimetry/lib/python3.10/site-packages/PIL/Image.py:3011: DecompressionBombWarning: Image size (154257264 pixels) exceeds limit of 89478485 pixels, could be decompression bomb DOS attack.\n",
      "  warnings.warn(\n"
     ]
    },
    {
     "name": "stdout",
     "output_type": "stream",
     "text": [
      "/data/andra\n",
      "684\n"
     ]
    },
    {
     "name": "stderr",
     "output_type": "stream",
     "text": [
      "/work/armitagj/miniconda3/envs/ai.calcimetry/lib/python3.10/site-packages/PIL/Image.py:3011: DecompressionBombWarning: Image size (131476625 pixels) exceeds limit of 89478485 pixels, could be decompression bomb DOS attack.\n",
      "  warnings.warn(\n"
     ]
    },
    {
     "name": "stdout",
     "output_type": "stream",
     "text": [
      "/data/andra\n",
      "685\n"
     ]
    },
    {
     "name": "stderr",
     "output_type": "stream",
     "text": [
      "/work/armitagj/miniconda3/envs/ai.calcimetry/lib/python3.10/site-packages/PIL/Image.py:3011: DecompressionBombWarning: Image size (151506432 pixels) exceeds limit of 89478485 pixels, could be decompression bomb DOS attack.\n",
      "  warnings.warn(\n"
     ]
    },
    {
     "name": "stdout",
     "output_type": "stream",
     "text": [
      "/data/andra\n",
      "686\n"
     ]
    },
    {
     "name": "stderr",
     "output_type": "stream",
     "text": [
      "/work/armitagj/miniconda3/envs/ai.calcimetry/lib/python3.10/site-packages/PIL/Image.py:3011: DecompressionBombWarning: Image size (119294841 pixels) exceeds limit of 89478485 pixels, could be decompression bomb DOS attack.\n",
      "  warnings.warn(\n"
     ]
    },
    {
     "name": "stdout",
     "output_type": "stream",
     "text": [
      "/data/andra\n"
     ]
    },
    {
     "name": "stderr",
     "output_type": "stream",
     "text": [
      "/work/armitagj/miniconda3/envs/ai.calcimetry/lib/python3.10/site-packages/PIL/Image.py:3011: DecompressionBombWarning: Image size (119336448 pixels) exceeds limit of 89478485 pixels, could be decompression bomb DOS attack.\n",
      "  warnings.warn(\n"
     ]
    },
    {
     "name": "stdout",
     "output_type": "stream",
     "text": [
      "687\n",
      "/data/andra\n",
      "688\n"
     ]
    },
    {
     "name": "stderr",
     "output_type": "stream",
     "text": [
      "/work/armitagj/miniconda3/envs/ai.calcimetry/lib/python3.10/site-packages/PIL/Image.py:3011: DecompressionBombWarning: Image size (144499896 pixels) exceeds limit of 89478485 pixels, could be decompression bomb DOS attack.\n",
      "  warnings.warn(\n"
     ]
    },
    {
     "name": "stdout",
     "output_type": "stream",
     "text": [
      "/data/andra\n",
      "689\n",
      "/data/andra\n",
      "690\n"
     ]
    },
    {
     "name": "stderr",
     "output_type": "stream",
     "text": [
      "/work/armitagj/miniconda3/envs/ai.calcimetry/lib/python3.10/site-packages/PIL/Image.py:3011: DecompressionBombWarning: Image size (148834868 pixels) exceeds limit of 89478485 pixels, could be decompression bomb DOS attack.\n",
      "  warnings.warn(\n"
     ]
    },
    {
     "name": "stdout",
     "output_type": "stream",
     "text": [
      "/data/andra\n"
     ]
    },
    {
     "name": "stderr",
     "output_type": "stream",
     "text": [
      "/work/armitagj/miniconda3/envs/ai.calcimetry/lib/python3.10/site-packages/PIL/Image.py:3011: DecompressionBombWarning: Image size (163001400 pixels) exceeds limit of 89478485 pixels, could be decompression bomb DOS attack.\n",
      "  warnings.warn(\n"
     ]
    },
    {
     "name": "stdout",
     "output_type": "stream",
     "text": [
      "691\n",
      "/data/andra\n",
      "692\n"
     ]
    },
    {
     "name": "stderr",
     "output_type": "stream",
     "text": [
      "/work/armitagj/miniconda3/envs/ai.calcimetry/lib/python3.10/site-packages/PIL/Image.py:3011: DecompressionBombWarning: Image size (140445032 pixels) exceeds limit of 89478485 pixels, could be decompression bomb DOS attack.\n",
      "  warnings.warn(\n"
     ]
    },
    {
     "name": "stdout",
     "output_type": "stream",
     "text": [
      "/data/andra\n",
      "693\n",
      "/data/andra\n"
     ]
    },
    {
     "name": "stderr",
     "output_type": "stream",
     "text": [
      "/work/armitagj/miniconda3/envs/ai.calcimetry/lib/python3.10/site-packages/PIL/Image.py:3011: DecompressionBombWarning: Image size (105437346 pixels) exceeds limit of 89478485 pixels, could be decompression bomb DOS attack.\n",
      "  warnings.warn(\n"
     ]
    },
    {
     "name": "stdout",
     "output_type": "stream",
     "text": [
      "694\n",
      "/data/andra\n"
     ]
    },
    {
     "name": "stderr",
     "output_type": "stream",
     "text": [
      "/work/armitagj/miniconda3/envs/ai.calcimetry/lib/python3.10/site-packages/PIL/Image.py:3011: DecompressionBombWarning: Image size (155873796 pixels) exceeds limit of 89478485 pixels, could be decompression bomb DOS attack.\n",
      "  warnings.warn(\n"
     ]
    },
    {
     "name": "stdout",
     "output_type": "stream",
     "text": [
      "695\n",
      "/data/andra\n",
      "696\n",
      "/data/andra\n",
      "697\n"
     ]
    },
    {
     "name": "stderr",
     "output_type": "stream",
     "text": [
      "/work/armitagj/miniconda3/envs/ai.calcimetry/lib/python3.10/site-packages/PIL/Image.py:3011: DecompressionBombWarning: Image size (126484050 pixels) exceeds limit of 89478485 pixels, could be decompression bomb DOS attack.\n",
      "  warnings.warn(\n"
     ]
    },
    {
     "name": "stdout",
     "output_type": "stream",
     "text": [
      "/data/andra\n",
      "698\n",
      "/data/andra\n",
      "699\n",
      "/data/andra\n",
      "700\n"
     ]
    },
    {
     "name": "stderr",
     "output_type": "stream",
     "text": [
      "/work/armitagj/miniconda3/envs/ai.calcimetry/lib/python3.10/site-packages/PIL/Image.py:3011: DecompressionBombWarning: Image size (156503232 pixels) exceeds limit of 89478485 pixels, could be decompression bomb DOS attack.\n",
      "  warnings.warn(\n"
     ]
    },
    {
     "name": "stdout",
     "output_type": "stream",
     "text": [
      "/data/andra\n",
      "701\n"
     ]
    },
    {
     "name": "stderr",
     "output_type": "stream",
     "text": [
      "/work/armitagj/miniconda3/envs/ai.calcimetry/lib/python3.10/site-packages/PIL/Image.py:3011: DecompressionBombWarning: Image size (110429709 pixels) exceeds limit of 89478485 pixels, could be decompression bomb DOS attack.\n",
      "  warnings.warn(\n"
     ]
    },
    {
     "name": "stdout",
     "output_type": "stream",
     "text": [
      "/data/andra\n",
      "702\n"
     ]
    },
    {
     "name": "stderr",
     "output_type": "stream",
     "text": [
      "/work/armitagj/miniconda3/envs/ai.calcimetry/lib/python3.10/site-packages/PIL/Image.py:3011: DecompressionBombWarning: Image size (136304721 pixels) exceeds limit of 89478485 pixels, could be decompression bomb DOS attack.\n",
      "  warnings.warn(\n"
     ]
    },
    {
     "name": "stdout",
     "output_type": "stream",
     "text": [
      "/data/andra\n",
      "703\n",
      "/data/andra\n",
      "704\n"
     ]
    },
    {
     "name": "stderr",
     "output_type": "stream",
     "text": [
      "/work/armitagj/miniconda3/envs/ai.calcimetry/lib/python3.10/site-packages/PIL/Image.py:3011: DecompressionBombWarning: Image size (136274300 pixels) exceeds limit of 89478485 pixels, could be decompression bomb DOS attack.\n",
      "  warnings.warn(\n"
     ]
    },
    {
     "name": "stdout",
     "output_type": "stream",
     "text": [
      "/data/andra\n",
      "705\n"
     ]
    },
    {
     "name": "stderr",
     "output_type": "stream",
     "text": [
      "/work/armitagj/miniconda3/envs/ai.calcimetry/lib/python3.10/site-packages/PIL/Image.py:3011: DecompressionBombWarning: Image size (143820000 pixels) exceeds limit of 89478485 pixels, could be decompression bomb DOS attack.\n",
      "  warnings.warn(\n"
     ]
    },
    {
     "name": "stdout",
     "output_type": "stream",
     "text": [
      "/data/andra\n",
      "706\n"
     ]
    },
    {
     "name": "stderr",
     "output_type": "stream",
     "text": [
      "/work/armitagj/miniconda3/envs/ai.calcimetry/lib/python3.10/site-packages/PIL/Image.py:3011: DecompressionBombWarning: Image size (129435516 pixels) exceeds limit of 89478485 pixels, could be decompression bomb DOS attack.\n",
      "  warnings.warn(\n"
     ]
    },
    {
     "name": "stdout",
     "output_type": "stream",
     "text": [
      "/data/andra\n",
      "707\n"
     ]
    },
    {
     "name": "stderr",
     "output_type": "stream",
     "text": [
      "/work/armitagj/miniconda3/envs/ai.calcimetry/lib/python3.10/site-packages/PIL/Image.py:3011: DecompressionBombWarning: Image size (151503534 pixels) exceeds limit of 89478485 pixels, could be decompression bomb DOS attack.\n",
      "  warnings.warn(\n"
     ]
    },
    {
     "name": "stdout",
     "output_type": "stream",
     "text": [
      "/data/andra\n"
     ]
    },
    {
     "name": "stderr",
     "output_type": "stream",
     "text": [
      "/work/armitagj/miniconda3/envs/ai.calcimetry/lib/python3.10/site-packages/PIL/Image.py:3011: DecompressionBombWarning: Image size (115709364 pixels) exceeds limit of 89478485 pixels, could be decompression bomb DOS attack.\n",
      "  warnings.warn(\n"
     ]
    },
    {
     "name": "stdout",
     "output_type": "stream",
     "text": [
      "708\n",
      "/data/andra\n",
      "709\n",
      "/data/andra\n"
     ]
    },
    {
     "ename": "DecompressionBombError",
     "evalue": "Image size (246363648 pixels) exceeds limit of 178956970 pixels, could be decompression bomb DOS attack.",
     "output_type": "error",
     "traceback": [
      "\u001b[0;31m---------------------------------------------------------------------------\u001b[0m",
      "\u001b[0;31mDecompressionBombError\u001b[0m                    Traceback (most recent call last)",
      "Input \u001b[0;32mIn [7]\u001b[0m, in \u001b[0;36m<cell line: 15>\u001b[0;34m()\u001b[0m\n\u001b[1;32m     15\u001b[0m \u001b[38;5;28;01mfor\u001b[39;00m ImageId \u001b[38;5;129;01min\u001b[39;00m df[\u001b[38;5;124m'\u001b[39m\u001b[38;5;124mImageId\u001b[39m\u001b[38;5;124m'\u001b[39m]:\n\u001b[1;32m     17\u001b[0m     \u001b[38;5;28;01mwith\u001b[39;00m CalcimetryAPI(mongo_info\u001b[38;5;241m=\u001b[39mmongo_info) \u001b[38;5;28;01mas\u001b[39;00m calcimetry_api:\n\u001b[0;32m---> 18\u001b[0m         img \u001b[38;5;241m=\u001b[39m \u001b[43mcalcimetry_api\u001b[49m\u001b[38;5;241;43m.\u001b[39;49m\u001b[43mread_image\u001b[49m\u001b[43m(\u001b[49m\u001b[43mImageId\u001b[49m\u001b[43m)\u001b[49m\n\u001b[1;32m     19\u001b[0m         \u001b[38;5;28mprint\u001b[39m(ImageId)\n\u001b[1;32m     21\u001b[0m         \u001b[38;5;28;01mif\u001b[39;00m img \u001b[38;5;129;01mis\u001b[39;00m \u001b[38;5;129;01mnot\u001b[39;00m \u001b[38;5;28;01mNone\u001b[39;00m:\n\u001b[1;32m     22\u001b[0m \n\u001b[1;32m     23\u001b[0m             \u001b[38;5;66;03m# focus metric\u001b[39;00m\n",
      "File \u001b[0;32m~/code/Tellus/Andra/ai.calcimetry/notebooks/../calcimetry/calcimetry_api.py:45\u001b[0m, in \u001b[0;36mCalcimetryAPI.read_image\u001b[0;34m(self, image_id)\u001b[0m\n\u001b[1;32m     43\u001b[0m fs \u001b[38;5;241m=\u001b[39m gridfs\u001b[38;5;241m.\u001b[39mGridFS(\u001b[38;5;28mself\u001b[39m\u001b[38;5;241m.\u001b[39mdb, collection\u001b[38;5;241m=\u001b[39m\u001b[38;5;28mself\u001b[39m\u001b[38;5;241m.\u001b[39mJPG_COL)\n\u001b[1;32m     44\u001b[0m file \u001b[38;5;241m=\u001b[39m fs\u001b[38;5;241m.\u001b[39mfind_one({\u001b[38;5;124m\"\u001b[39m\u001b[38;5;124mfilename\u001b[39m\u001b[38;5;124m\"\u001b[39m: \u001b[38;5;28mstr\u001b[39m(image_id)})\n\u001b[0;32m---> 45\u001b[0m jpg \u001b[38;5;241m=\u001b[39m \u001b[43mImage\u001b[49m\u001b[38;5;241;43m.\u001b[39;49m\u001b[43mopen\u001b[49m\u001b[43m(\u001b[49m\u001b[43mio\u001b[49m\u001b[38;5;241;43m.\u001b[39;49m\u001b[43mBytesIO\u001b[49m\u001b[43m(\u001b[49m\u001b[43mfile\u001b[49m\u001b[38;5;241;43m.\u001b[39;49m\u001b[43mread\u001b[49m\u001b[43m(\u001b[49m\u001b[43m)\u001b[49m\u001b[43m)\u001b[49m\u001b[43m)\u001b[49m\n\u001b[1;32m     47\u001b[0m infos \u001b[38;5;241m=\u001b[39m \u001b[38;5;28mself\u001b[39m\u001b[38;5;241m.\u001b[39mget_infos(image_id)\n\u001b[1;32m     48\u001b[0m measurements \u001b[38;5;241m=\u001b[39m \u001b[38;5;28mself\u001b[39m\u001b[38;5;241m.\u001b[39mget_measurements(image_id)\n",
      "File \u001b[0;32m~/miniconda3/envs/ai.calcimetry/lib/python3.10/site-packages/PIL/Image.py:3109\u001b[0m, in \u001b[0;36mopen\u001b[0;34m(fp, mode, formats)\u001b[0m\n\u001b[1;32m   3106\u001b[0m             \u001b[38;5;28;01mraise\u001b[39;00m\n\u001b[1;32m   3107\u001b[0m     \u001b[38;5;28;01mreturn\u001b[39;00m \u001b[38;5;28;01mNone\u001b[39;00m\n\u001b[0;32m-> 3109\u001b[0m im \u001b[38;5;241m=\u001b[39m \u001b[43m_open_core\u001b[49m\u001b[43m(\u001b[49m\u001b[43mfp\u001b[49m\u001b[43m,\u001b[49m\u001b[43m \u001b[49m\u001b[43mfilename\u001b[49m\u001b[43m,\u001b[49m\u001b[43m \u001b[49m\u001b[43mprefix\u001b[49m\u001b[43m,\u001b[49m\u001b[43m \u001b[49m\u001b[43mformats\u001b[49m\u001b[43m)\u001b[49m\n\u001b[1;32m   3111\u001b[0m \u001b[38;5;28;01mif\u001b[39;00m im \u001b[38;5;129;01mis\u001b[39;00m \u001b[38;5;28;01mNone\u001b[39;00m:\n\u001b[1;32m   3112\u001b[0m     \u001b[38;5;28;01mif\u001b[39;00m init():\n",
      "File \u001b[0;32m~/miniconda3/envs/ai.calcimetry/lib/python3.10/site-packages/PIL/Image.py:3096\u001b[0m, in \u001b[0;36mopen.<locals>._open_core\u001b[0;34m(fp, filename, prefix, formats)\u001b[0m\n\u001b[1;32m   3094\u001b[0m         fp\u001b[38;5;241m.\u001b[39mseek(\u001b[38;5;241m0\u001b[39m)\n\u001b[1;32m   3095\u001b[0m         im \u001b[38;5;241m=\u001b[39m factory(fp, filename)\n\u001b[0;32m-> 3096\u001b[0m         \u001b[43m_decompression_bomb_check\u001b[49m\u001b[43m(\u001b[49m\u001b[43mim\u001b[49m\u001b[38;5;241;43m.\u001b[39;49m\u001b[43msize\u001b[49m\u001b[43m)\u001b[49m\n\u001b[1;32m   3097\u001b[0m         \u001b[38;5;28;01mreturn\u001b[39;00m im\n\u001b[1;32m   3098\u001b[0m \u001b[38;5;28;01mexcept\u001b[39;00m (\u001b[38;5;167;01mSyntaxError\u001b[39;00m, \u001b[38;5;167;01mIndexError\u001b[39;00m, \u001b[38;5;167;01mTypeError\u001b[39;00m, struct\u001b[38;5;241m.\u001b[39merror):\n\u001b[1;32m   3099\u001b[0m     \u001b[38;5;66;03m# Leave disabled by default, spams the logs with image\u001b[39;00m\n\u001b[1;32m   3100\u001b[0m     \u001b[38;5;66;03m# opening failures that are entirely expected.\u001b[39;00m\n\u001b[1;32m   3101\u001b[0m     \u001b[38;5;66;03m# logger.debug(\"\", exc_info=True)\u001b[39;00m\n",
      "File \u001b[0;32m~/miniconda3/envs/ai.calcimetry/lib/python3.10/site-packages/PIL/Image.py:3005\u001b[0m, in \u001b[0;36m_decompression_bomb_check\u001b[0;34m(size)\u001b[0m\n\u001b[1;32m   3002\u001b[0m pixels \u001b[38;5;241m=\u001b[39m size[\u001b[38;5;241m0\u001b[39m] \u001b[38;5;241m*\u001b[39m size[\u001b[38;5;241m1\u001b[39m]\n\u001b[1;32m   3004\u001b[0m \u001b[38;5;28;01mif\u001b[39;00m pixels \u001b[38;5;241m>\u001b[39m \u001b[38;5;241m2\u001b[39m \u001b[38;5;241m*\u001b[39m MAX_IMAGE_PIXELS:\n\u001b[0;32m-> 3005\u001b[0m     \u001b[38;5;28;01mraise\u001b[39;00m DecompressionBombError(\n\u001b[1;32m   3006\u001b[0m         \u001b[38;5;124mf\u001b[39m\u001b[38;5;124m\"\u001b[39m\u001b[38;5;124mImage size (\u001b[39m\u001b[38;5;132;01m{\u001b[39;00mpixels\u001b[38;5;132;01m}\u001b[39;00m\u001b[38;5;124m pixels) exceeds limit of \u001b[39m\u001b[38;5;132;01m{\u001b[39;00m\u001b[38;5;241m2\u001b[39m \u001b[38;5;241m*\u001b[39m MAX_IMAGE_PIXELS\u001b[38;5;132;01m}\u001b[39;00m\u001b[38;5;124m \u001b[39m\u001b[38;5;124m\"\u001b[39m\n\u001b[1;32m   3007\u001b[0m         \u001b[38;5;124m\"\u001b[39m\u001b[38;5;124mpixels, could be decompression bomb DOS attack.\u001b[39m\u001b[38;5;124m\"\u001b[39m\n\u001b[1;32m   3008\u001b[0m     )\n\u001b[1;32m   3010\u001b[0m \u001b[38;5;28;01mif\u001b[39;00m pixels \u001b[38;5;241m>\u001b[39m MAX_IMAGE_PIXELS:\n\u001b[1;32m   3011\u001b[0m     warnings\u001b[38;5;241m.\u001b[39mwarn(\n\u001b[1;32m   3012\u001b[0m         \u001b[38;5;124mf\u001b[39m\u001b[38;5;124m\"\u001b[39m\u001b[38;5;124mImage size (\u001b[39m\u001b[38;5;132;01m{\u001b[39;00mpixels\u001b[38;5;132;01m}\u001b[39;00m\u001b[38;5;124m pixels) exceeds limit of \u001b[39m\u001b[38;5;132;01m{\u001b[39;00mMAX_IMAGE_PIXELS\u001b[38;5;132;01m}\u001b[39;00m\u001b[38;5;124m pixels, \u001b[39m\u001b[38;5;124m\"\u001b[39m\n\u001b[1;32m   3013\u001b[0m         \u001b[38;5;124m\"\u001b[39m\u001b[38;5;124mcould be decompression bomb DOS attack.\u001b[39m\u001b[38;5;124m\"\u001b[39m,\n\u001b[1;32m   3014\u001b[0m         DecompressionBombWarning,\n\u001b[1;32m   3015\u001b[0m     )\n",
      "\u001b[0;31mDecompressionBombError\u001b[0m: Image size (246363648 pixels) exceeds limit of 178956970 pixels, could be decompression bomb DOS attack."
     ]
    }
   ],
   "source": [
    "Resolution = []\n",
    "Focus = []\n",
    "GradientMax = []\n",
    "GradientSTD = []\n",
    "Colour1 = []\n",
    "Colour2 = []\n",
    "Colour3 = []\n",
    "Colour4 = []\n",
    "Colour5 = []\n",
    "\"\"\"\n",
    "BRISQUE_i = []\n",
    "BRISQUE_l = []\n",
    "\"\"\"\n",
    "\n",
    "missing_images = []\n",
    "\n",
    "f = IntProgress(min=0, max=len(df)) # instantiate the bar\n",
    "display(f) # display the bar\n",
    "\n",
    "for ImageId in df['ImageId']:\n",
    "    \n",
    "    with CalcimetryAPI(mongo_info=mongo_info) as calcimetry_api:\n",
    "        img = calcimetry_api.read_image(ImageId)\n",
    "        \n",
    "        if img is not None:\n",
    "\n",
    "            # focus metric\n",
    "            gray = cv2.cvtColor(np.asarray(img.jpg), cv2.COLOR_BGR2GRAY)\n",
    "            Focus.append(variance_of_laplacian(gray))\n",
    "\n",
    "            # Gradient metric\n",
    "            GradientMax.append(np.max(gradient_magnitude(gray)[:]))\n",
    "            GradientSTD.append(np.std(gradient_magnitude(gray)[:]))\n",
    "\n",
    "            # Top five colours\n",
    "            try:\n",
    "                colours = color_analysis(prep_image(np.asarray(img.jpg)))\n",
    "                Colour1.append(colours[0])\n",
    "                Colour2.append(colours[1])\n",
    "                Colour3.append(colours[2])\n",
    "                Colour4.append(colours[3])\n",
    "                Colour5.append(colours[4])\n",
    "            except:\n",
    "                Colour1.append(np.nan)\n",
    "                Colour2.append(np.nan)\n",
    "                Colour3.append(np.nan)\n",
    "                Colour4.append(np.nan)\n",
    "                Colour5.append(np.nan)\n",
    "\n",
    "            \"\"\"\n",
    "            # pytorch image quality, use try, except loop to keep going if image is too large or does not conform\n",
    "            try:\n",
    "                x = torch.tensor(np.asarray(img)).permute(2, 0, 1)[None, ...] / 255.\n",
    "                if torch.cuda.is_available():\n",
    "                    # Move to GPU to make computaions faster\n",
    "                    # print(torch.cuda.is_available())\n",
    "                    x = x.cuda()\n",
    "                brisque_index: torch.Tensor = piq.brisque(x, data_range=1., reduction='none')\n",
    "                brisque_loss: torch.Tensor = piq.BRISQUELoss(data_range=1., reduction='none')(x)\n",
    "\n",
    "                BRISQUE_i.append(brisque_index.item())\n",
    "                BRISQUE_l.append(brisque_loss.item())\n",
    "            except Exception as e:\n",
    "                print(f'Error in PyTorch with image {fileName}\\n')\n",
    "                print(e)\n",
    "                BRISQUE_i.append(np.nan)\n",
    "                BRISQUE_l.append(np.nan)\n",
    "\n",
    "            if torch.cuda.is_available():\n",
    "                torch.cuda.empty_cache()\n",
    "            del x\n",
    "            \"\"\"\n",
    "\n",
    "        else:  # not an image\n",
    "            print(f'{fileName} is not a jpg')\n",
    "            missing_images.append(fileName)\n",
    "            Focus.append(np.nan)\n",
    "            GradientMax.append(np.nan)\n",
    "            GradientSTD.append(np.nan)\n",
    "            Colour1.append(np.nan)\n",
    "            Colour2.append(np.nan)\n",
    "            Colour3.append(np.nan)\n",
    "            Colour4.append(np.nan)\n",
    "            Colour5.append(np.nan)\n",
    "            BRISQUE_i.append(np.nan)\n",
    "            BRISQUE_l.append(np.nan)\n",
    "            \n",
    "        f.value += 1"
   ]
  },
  {
   "cell_type": "code",
   "execution_count": null,
   "id": "33735655-7e4a-432e-a6b8-2c530478390e",
   "metadata": {},
   "outputs": [],
   "source": [
    "# resolution\n",
    "dpxdx = (df['px1'] - df['px0']) / (df['Cote1'] - df['Cote0'])"
   ]
  },
  {
   "cell_type": "code",
   "execution_count": null,
   "id": "f97adb7f-3476-4cc5-ad07-499d1d492a3f",
   "metadata": {},
   "outputs": [],
   "source": [
    "plt.imshow(img)\n",
    "plt.show()"
   ]
  }
 ],
 "metadata": {
  "kernelspec": {
   "display_name": "Python 3 (ipykernel)",
   "language": "python",
   "name": "python3"
  },
  "language_info": {
   "codemirror_mode": {
    "name": "ipython",
    "version": 3
   },
   "file_extension": ".py",
   "mimetype": "text/x-python",
   "name": "python",
   "nbconvert_exporter": "python",
   "pygments_lexer": "ipython3",
   "version": "3.10.5"
  },
  "widgets": {
   "application/vnd.jupyter.widget-state+json": {
    "state": {},
    "version_major": 2,
    "version_minor": 0
   }
  }
 },
 "nbformat": 4,
 "nbformat_minor": 5
}
