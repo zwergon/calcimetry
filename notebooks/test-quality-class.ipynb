{
 "cells": [
  {
   "cell_type": "code",
   "execution_count": 1,
   "id": "e54d9db4-2112-4f1c-bad5-0530cad7db33",
   "metadata": {},
   "outputs": [],
   "source": [
    "import io, os, sys\n",
    "\n",
    "sys.path.append('..')\n",
    "\n",
    "# local library of functions to connect to image server\n",
    "#import calcimetry.use_server as server\n",
    "from calcimetry.mongo_api import MongoInfo, MongoAPI\n",
    "from calcimetry.calcimetry_api import CalcimetryAPI\n",
    "from calcimetry.quality import Quality\n",
    "\n",
    "# parameters where the database is stored, can obviously be distant.\n",
    "sandbox = False\n",
    "if os.getcwd() == '/work/home/ai.calcimetry/notebooks':\n",
    "    print('On the sandbox')\n",
    "    sandbox = True\n",
    "    HOST='irlinv-tellus'\n",
    "    PORT=27017\n",
    "else:\n",
    "    # ssh -f -N -L 27017:irlinv-tellus:27017 irlinv-tellus\n",
    "    HOST='localhost'\n",
    "    PORT=27017   "
   ]
  },
  {
   "cell_type": "code",
   "execution_count": 2,
   "id": "a6d5f873-34aa-4d8e-86c9-190fc07bca32",
   "metadata": {},
   "outputs": [],
   "source": [
    "IMG_ID = 98"
   ]
  },
  {
   "cell_type": "code",
   "execution_count": 2,
   "id": "f1c8682b-1cd1-482a-b745-50be84f5acff",
   "metadata": {},
   "outputs": [],
   "source": [
    "mongo_info = MongoInfo(host=HOST, port=PORT)\n",
    "with CalcimetryAPI(mongo_info=mongo_info) as calcimetry_api:\n",
    "    \n",
    "    img = calcimetry_api.read_image(IMG_ID)\n",
    "\n",
    "    Q = Quality(IMG_ID)\n",
    "    Q.add_simple_metrics(img.jpg)\n",
    "    Q.add_colours(img.jpg, 3)\n",
    "    Q.add_brisque_index(img.jpg)"
   ]
  },
  {
   "cell_type": "code",
   "execution_count": 3,
   "id": "87adc653-dd7a-4ae5-b925-37d667a0d242",
   "metadata": {},
   "outputs": [
    {
     "data": {
      "text/plain": [
       "{'ImageId': 99,\n",
       " 'focus': 275.22102856352086,\n",
       " 'gradient': {'min': 0.0,\n",
       "  'max': 916.078599247903,\n",
       "  'ave': 54.82731768789469,\n",
       "  'std': 61.34805245796828},\n",
       " 'colours': [[[66.94512465168293, 66.46450544731941, 68.65364620594039],\n",
       "   [117.7461808795803, 114.83857440682922, 112.46033952149139],\n",
       "   [169.55059898450057, 167.33749628727645, 160.56295348144874]]],\n",
       " 'brisque': 32.63641357421875}"
      ]
     },
     "execution_count": 3,
     "metadata": {},
     "output_type": "execute_result"
    }
   ],
   "source": [
    "vars(Q)"
   ]
  },
  {
   "cell_type": "code",
   "execution_count": 4,
   "id": "1598162f-9d89-4701-bfc4-60cce3ef4bc9",
   "metadata": {},
   "outputs": [
    {
     "name": "stdout",
     "output_type": "stream",
     "text": [
      "{'ImageId': 99, 'FileName': 'GTR2005-10_0049_DIR1003_0166_0236.jpg', 'DrillName': 'DIR1003', 'Cote0': 166, 'Cote1': 236, 'PxSize': 1876, 'PySize': 741, 'px0': 36, 'px1': 1768, 'k_Up': [[144, 77], [759, 93], [1200, 80], [1299, 11], [1674, 18]], 'k_Down': [[87, 698], [779, 699], [825, 685], [870, 706], [961, 702], [1013, 666], [1048, 707], [1109, 696], [1180, 677], [1271, 644], [1323, 635], [1446, 588], [1668, 579]], 'k_Arrow': [[39, 374], [558, 379], [1098, 368], [1345, 319], [1800, 278]], 'criteria': {'n_measurements': 0, 'resolution': 0.04041570438799076, 'y_ratio': 0.8259109311740891}}\n"
     ]
    }
   ],
   "source": [
    "with CalcimetryAPI(mongo_info=mongo_info) as calcimetry_api:\n",
    "    print(calcimetry_api.read_image_info(IMG_ID)) # database info"
   ]
  },
  {
   "cell_type": "code",
   "execution_count": 3,
   "id": "1bbf9396-24f5-4583-8768-dd097cc787e5",
   "metadata": {},
   "outputs": [],
   "source": [
    "HOST = 'irlinv-dvbacr16'\n",
    "PORT = 7017\n",
    "mongo_info = MongoInfo(host=HOST, port=PORT)"
   ]
  },
  {
   "cell_type": "code",
   "execution_count": 4,
   "id": "e779bdad-275f-4d46-83e0-24a399318135",
   "metadata": {},
   "outputs": [
    {
     "name": "stdout",
     "output_type": "stream",
     "text": [
      "{'ImageId': 99, 'FileName': 'GTR2005-10_0049_DIR1003_0166_0236.jpg', 'DrillName': 'DIR1003', 'Cote0': 166, 'Cote1': 236, 'PxSize': 1876, 'PySize': 741, 'px0': 36, 'px1': 1768, 'k_Up': [[144, 77], [759, 93], [1200, 80], [1299, 11], [1674, 18]], 'k_Down': [[87, 698], [779, 699], [825, 685], [870, 706], [961, 702], [1013, 666], [1048, 707], [1109, 696], [1180, 677], [1271, 644], [1323, 635], [1446, 588], [1668, 579]], 'k_Arrow': [[39, 374], [558, 379], [1098, 368], [1345, 319], [1800, 278]]}\n"
     ]
    }
   ],
   "source": [
    "with CalcimetryAPI(mongo_info=mongo_info) as calcimetry_api:\n",
    "    print(calcimetry_api.read_image_info(IMG_ID)) # database info"
   ]
  },
  {
   "cell_type": "code",
   "execution_count": 7,
   "id": "bdf4375c-667d-47aa-85ed-b5eba5bc104a",
   "metadata": {},
   "outputs": [],
   "source": [
    "with MongoAPI(mongo_info=mongo_info) as mongo_api:\n",
    "    # create the payload\n",
    "    payload = vars(Q)\n",
    "\n",
    "    # push it to the database\n",
    "    mongo_api.write_quality_one(payload)"
   ]
  },
  {
   "cell_type": "code",
   "execution_count": 4,
   "id": "bc4b7ee8-e55a-407c-b399-a720422c1e46",
   "metadata": {},
   "outputs": [],
   "source": [
    "with CalcimetryAPI(mongo_info=mongo_info) as calcimetry_api:\n",
    "    image_quality = calcimetry_api.get_quality(IMG_ID)"
   ]
  },
  {
   "cell_type": "code",
   "execution_count": 5,
   "id": "ab3504ec-c652-4e61-8b79-f89e007e240c",
   "metadata": {},
   "outputs": [
    {
     "data": {
      "text/plain": [
       "calcimetry.quality.Quality"
      ]
     },
     "execution_count": 5,
     "metadata": {},
     "output_type": "execute_result"
    }
   ],
   "source": [
    "type(image_quality)"
   ]
  },
  {
   "cell_type": "code",
   "execution_count": 6,
   "id": "3110dce2-79eb-4602-a15d-f48f821e45fc",
   "metadata": {},
   "outputs": [
    {
     "data": {
      "text/plain": [
       "32.63641357421875"
      ]
     },
     "execution_count": 6,
     "metadata": {},
     "output_type": "execute_result"
    }
   ],
   "source": [
    "image_quality.brisque"
   ]
  },
  {
   "cell_type": "code",
   "execution_count": null,
   "id": "8e35962b-1daa-48ce-ac07-c7f763c85639",
   "metadata": {},
   "outputs": [],
   "source": []
  }
 ],
 "metadata": {
  "kernelspec": {
   "display_name": "Python 3 (ipykernel)",
   "language": "python",
   "name": "python3"
  },
  "language_info": {
   "codemirror_mode": {
    "name": "ipython",
    "version": 3
   },
   "file_extension": ".py",
   "mimetype": "text/x-python",
   "name": "python",
   "nbconvert_exporter": "python",
   "pygments_lexer": "ipython3",
   "version": "3.10.5"
  },
  "widgets": {
   "application/vnd.jupyter.widget-state+json": {
    "state": {},
    "version_major": 2,
    "version_minor": 0
   }
  }
 },
 "nbformat": 4,
 "nbformat_minor": 5
}
