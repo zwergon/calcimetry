{
 "cells": [
  {
   "cell_type": "code",
   "execution_count": null,
   "metadata": {},
   "outputs": [],
   "source": []
  }
 ],
 "metadata": {
  "kernelspec": {
   "display_name": "Python 3.8.5 ('base')",
   "language": "python",
   "name": "python3"
  },
  "language_info": {
   "name": "python",
   "version": "3.8.5"
  },
  "orig_nbformat": 4,
  "vscode": {
   "interpreter": {
    "hash": "87318e7f4a2d21b475c64cf8351be356b72610cdf56f3bee5650c23ac32e6f1c"
   }
  }
 },
 "nbformat": 4,
 "nbformat_minor": 2
}
