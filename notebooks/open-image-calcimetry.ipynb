{
 "cells": [
  {
   "cell_type": "code",
   "execution_count": null,
   "id": "b939edde-1698-4574-95ef-eec80607c93f",
   "metadata": {},
   "outputs": [],
   "source": [
    "import numpy as np\n",
    "import pandas as pd\n",
    "import matplotlib.pyplot as plt\n",
    "from matplotlib.path import Path\n",
    "from matplotlib import patches\n",
    "from matplotlib.pyplot import figure\n",
    "\n",
    "import sys\n",
    "sys.path.append('..')\n",
    "\n",
    "# local library of functions to connect to image server\n",
    "import calcimetry.use_server as server\n",
    "from calcimetry.mongo_api import MongoInfo, MongoAPI\n"
   ]
  },
  {
   "cell_type": "markdown",
   "id": "208ca1ed-3c41-4a52-b4ff-071f866fd775",
   "metadata": {},
   "source": [
    "# Open Image and get calcimetry for image"
   ]
  },
  {
   "cell_type": "code",
   "execution_count": null,
   "id": "a4663991-fe79-4efc-8394-9f7cb46a043f",
   "metadata": {},
   "outputs": [],
   "source": [
    "img_path = server.init()  # initiate the global (privatevariables for the database"
   ]
  },
  {
   "cell_type": "code",
   "execution_count": null,
   "id": "e53b480d-6d5e-4664-bd59-2f59d7da5695",
   "metadata": {},
   "outputs": [],
   "source": [
    "mongo_info = MongoInfo()"
   ]
  },
  {
   "cell_type": "code",
   "execution_count": null,
   "id": "4d2effd3-d3f4-429d-a44c-d860bb92e34c",
   "metadata": {},
   "outputs": [],
   "source": [
    "drillname = 'TPV1321'\n",
    "with MongoAPI(mongo_info=mongo_info) as mongo_api:\n",
    "    partialdrillname = f'.*{drillname}.*'\n",
    "    doc = mongo_api.db['measurements'].find({'DrillName': {'$regex' : partialdrillname}})\n",
    "    df = pd.DataFrame(list(doc))\n",
    "df"
   ]
  },
  {
   "cell_type": "code",
   "execution_count": null,
   "id": "516ddc24-f92c-432c-919b-62fcb4a4ee45",
   "metadata": {},
   "outputs": [],
   "source": [
    "ImageId = 2804\n",
    "\n",
    "def draw_line(polyline, color='red'):\n",
    "    x = []\n",
    "    y = []\n",
    "    for t in polyline:\n",
    "        x.append(t[0])\n",
    "        y.append(t[1])\n",
    "    apath = Path(list(zip(x, y)))\n",
    "    apatch = patches.PathPatch(apath, linewidth=1, facecolor='none', edgecolor=color)\n",
    "    return apatch\n",
    "\n",
    "with MongoAPI(mongo_info=mongo_info) as mongo_api:\n",
    "    doc = mongo_api.db['images'].find_one({'ImageId': ImageId})\n",
    "\n",
    "    if len(doc['k_Up']) > 1:\n",
    "        top_line = draw_line(doc['k_Up'], color='green')\n",
    "    if doc['k_Arrow'] is not None:\n",
    "        arrow_line = draw_line(doc['k_Arrow'], color='red')\n",
    "    if len(doc['k_Down']) > 1:\n",
    "        bottom_line = draw_line(doc['k_Down'], color='blue')\n",
    "\n",
    "    filename = f\"/data/andra/calci_photos/{drillname}/Photos/{doc['FileName']}\"\n",
    "    img = server.get_file(filename)\n",
    "\n",
    "    figure(figsize=(12, 8), dpi=80)\n",
    "    plt.imshow(img)\n",
    "    if len(doc['k_Up']) > 1:\n",
    "        plt.gca().add_patch(top_line)\n",
    "    if doc['k_Arrow'] is not None:\n",
    "        plt.gca().add_patch(arrow_line)\n",
    "    if len(doc['k_Down']) > 1:\n",
    "        plt.gca().add_patch(bottom_line)"
   ]
  },
  {
   "cell_type": "code",
   "execution_count": null,
   "id": "ada5de4d-729d-4da1-8ecb-54decc7fd1f6",
   "metadata": {},
   "outputs": [],
   "source": [
    "with MongoAPI(mongo_info=mongo_info) as mongo_api:\n",
    "    doc = mongo_api.db['images'].find_one({'ImageId': ImageId})\n",
    "\n",
    "    if len(doc['k_Up']) > 1:\n",
    "        top_line = draw_line(doc['k_Up'], color='green')\n",
    "    if doc['k_Arrow'] is not None:\n",
    "        arrow_line = draw_line(doc['k_Arrow'], color='red')\n",
    "    if len(doc['k_Down']) > 1:\n",
    "        bottom_line = draw_line(doc['k_Down'], color='blue')\n",
    "\n",
    "    filename = f\"/data/andra/calci_photos/{drillname}/Photos/{doc['FileName']}\"\n",
    "    img = server.get_file(filename, quiet=True)\n",
    "\n",
    "    figure(figsize=(18, 8), dpi=80)\n",
    "    plt.subplot(211)\n",
    "    plt.imshow(img)\n",
    "    if len(doc['k_Up']) > 1:\n",
    "        plt.gca().add_patch(top_line)\n",
    "    if doc['k_Arrow'] is not None:\n",
    "        plt.gca().add_patch(arrow_line)\n",
    "    if len(doc['k_Down']) > 1:\n",
    "        plt.gca().add_patch(bottom_line)\n",
    "        \n",
    "    dpxdx = (doc['px1'] - doc['px0']) / (doc['Cote1'] - doc['Cote0'])\n",
    "        \n",
    "    for indx, row in df.iterrows():\n",
    "        if row['ImageId'] == ImageId:\n",
    "            x = dpxdx * (row['CalciCote'] - doc['Cote0']) + doc['px0']\n",
    "            y1 = np.array(doc['k_Down']).T[1].max()\n",
    "            y2 = np.array(doc['k_Up']).T[1].min()\n",
    "            plt.plot([x, x], [y1, y2], color='black')\n",
    "    \n",
    "    plt.subplot(212)\n",
    "    \n",
    "    x = []\n",
    "    y = []\n",
    "    for indx, row in df.iterrows():\n",
    "        if row['ImageId'] == ImageId:\n",
    "            x.append(dpxdx * (row['CalciCote'] - doc['Cote0']) + doc['px0'])\n",
    "            y.append(row['CalciVals1m'])\n",
    "    plt.plot(x, y, marker='o', color='black')\n",
    "    plt.xlim(0, np.shape(img)[1])\n",
    "    plt.ylabel('Calcimetry (%)')\n",
    "    plt.xlabel('Length (pixels)')\n",
    "            "
   ]
  },
  {
   "cell_type": "code",
   "execution_count": null,
   "id": "786e6f53-4ee9-4332-830e-aa3ea998e28d",
   "metadata": {},
   "outputs": [],
   "source": []
  }
 ],
 "metadata": {
  "kernelspec": {
   "display_name": "Python 3 (ipykernel)",
   "language": "python",
   "name": "python3"
  },
  "language_info": {
   "codemirror_mode": {
    "name": "ipython",
    "version": 3
   },
   "file_extension": ".py",
   "mimetype": "text/x-python",
   "name": "python",
   "nbconvert_exporter": "python",
   "pygments_lexer": "ipython3",
   "version": "3.10.5"
  },
  "widgets": {
   "application/vnd.jupyter.widget-state+json": {
    "state": {},
    "version_major": 2,
    "version_minor": 0
   }
  }
 },
 "nbformat": 4,
 "nbformat_minor": 5
}
